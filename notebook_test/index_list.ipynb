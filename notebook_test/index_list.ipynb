{
 "cells": [
  {
   "cell_type": "code",
   "metadata": {
    "ExecuteTime": {
     "end_time": "2025-10-22T10:20:24.905983Z",
     "start_time": "2025-10-22T10:20:24.629112Z"
    }
   },
   "source": [
    "import requests \n",
    "import pandas as pd\n",
    "import time\n",
    "import json\n",
    "from datetime import date,datetime,timedelta"
   ],
   "outputs": [],
   "execution_count": 1
  },
  {
   "cell_type": "code",
   "metadata": {
    "ExecuteTime": {
     "end_time": "2025-10-22T10:20:24.911002Z",
     "start_time": "2025-10-22T10:20:24.909226Z"
    }
   },
   "source": [
    "#Declare file config\n",
    "file_path = '../credentials/config.json'\n",
    "\n",
    "#Open and read Json file\n",
    "with open(file_path, \"r\") as file:\n",
    "    config_data = json.load(file)"
   ],
   "outputs": [],
   "execution_count": 2
  },
  {
   "cell_type": "code",
   "metadata": {
    "ExecuteTime": {
     "end_time": "2025-10-22T10:20:24.916728Z",
     "start_time": "2025-10-22T10:20:24.915120Z"
    }
   },
   "source": [
    "current_date = date.today()\n",
    "current_date = current_date.strftime('%d/%m/%Y')\n",
    "print(\"Current Date:\", current_date)\n"
   ],
   "outputs": [
    {
     "name": "stdout",
     "output_type": "stream",
     "text": [
      "Current Date: 22/10/2025\n"
     ]
    }
   ],
   "execution_count": 3
  },
  {
   "cell_type": "code",
   "metadata": {
    "ExecuteTime": {
     "end_time": "2025-10-22T10:20:25.243723Z",
     "start_time": "2025-10-22T10:20:24.927240Z"
    }
   },
   "source": [
    "url = \"https://fc-data.ssi.com.vn/api/v2/Market/AccessToken\"\n",
    "\n",
    "payload = {\n",
    "    \"consumerID\": config_data[\"consumerID\"],\n",
    "    \"consumerSecret\": config_data[\"consumerSecret\"]\n",
    "}\n",
    "\n",
    "headers = {\n",
    "    \"Content-Type\": \"application/json\"\n",
    "}\n",
    "\n",
    "response = requests.post(url, json=payload, headers=headers)\n",
    "if response.status_code == 200:\n",
    "    access_token = response.json()['data'].get(\"accessToken\")\n",
    "else:\n",
    "    print(\"Failed to get access token. Status Code:\", response.status_code)\n",
    "    print(\"Response Body:\", response.text)\n",
    "    exit()"
   ],
   "outputs": [],
   "execution_count": 4
  },
  {
   "cell_type": "code",
   "metadata": {
    "ExecuteTime": {
     "end_time": "2025-10-22T10:20:25.768388Z",
     "start_time": "2025-10-22T10:20:25.249071Z"
    }
   },
   "source": [
    "# Replace with the token you obtained\n",
    "url = \"https://fc-data.ssi.com.vn/api/v2/Market/IndexList\"\n",
    "\n",
    "headers = {\n",
    "    \"Authorization\": f\"Bearer {access_token}\",\n",
    "    \"Content-Type\": \"application/json\"\n",
    "}\n",
    "\n",
    "params = {\n",
    "    \"pageIndex\": 1,\n",
    "    \"pageSize\": 1000\n",
    "}\n",
    "\n",
    "# Send the GET request\n",
    "response = requests.get(url, headers=headers,params=params)\n",
    "\n",
    "# Extract data from the response JSON\n",
    "data = response.json().get('data', [])\n",
    "\n",
    "# Convert the data into a DataFrame\n",
    "df = pd.DataFrame(data)"
   ],
   "outputs": [],
   "execution_count": 5
  },
  {
   "cell_type": "code",
   "metadata": {
    "ExecuteTime": {
     "end_time": "2025-10-22T10:20:25.784886Z",
     "start_time": "2025-10-22T10:20:25.778826Z"
    }
   },
   "source": "print(df)",
   "outputs": [
    {
     "name": "stdout",
     "output_type": "stream",
     "text": [
      "        IndexCode                             IndexName Exchange\n",
      "0           HNX30                                 HNX30      HNX\n",
      "1        HNXIndex                              HNXINDEX      HNX\n",
      "2   HNXUpcomIndex                         HNXUPCOMINDEX      HNX\n",
      "3           VN100                                 VN100     HOSE\n",
      "4            VN30                                  VN30     HOSE\n",
      "5      VNALLSHARE                                  None     HOSE\n",
      "6          VNCOND             VNAllShare Hàng Tiêu dùng     HOSE\n",
      "7          VNCONS  VNAllShare Hàng thiêu dùng thiết yếu     HOSE\n",
      "8       VNDIAMOND                Vietnam Diamond Index      HOSE\n",
      "9           VNENE                 VNAllShare Năng lượng     HOSE\n",
      "10          VNFIN                  VNAllShare Tài chính     HOSE\n",
      "11      VNFINLEAD                Vietnam Diamond Index      HOSE\n",
      "12    VNFINSELECT                Vietnam Diamond Index      HOSE\n",
      "13         VNHEAL          VNAllShare Chăm sóc sức khỏe     HOSE\n",
      "14          VNIND                VNAllShare Công nghiệp     HOSE\n",
      "15        VNINDEX                               VNINDEX     HOSE\n",
      "16           VNIT        VNAllShare Công nghệ thông tin     HOSE\n",
      "17          VNMAT            VNAllShare Nguyên vật liệu     HOSE\n",
      "18       VNMIDCAP                                  None     HOSE\n",
      "19         VNREAL               VNAllShare Bất động sản     HOSE\n",
      "20           VNSI                     VNStability Index     HOSE\n",
      "21     VNSMALLCAP                                  None     HOSE\n",
      "22          VNUTI           VNAllShare Dịch vụ tiện ích     HOSE\n",
      "23          VNX50                                 VNX50     HOSE\n",
      "24    VNXALLSHARE                                  None     HOSE\n",
      "25           None                                  None     HOSE\n"
     ]
    }
   ],
   "execution_count": 6
  },
  {
   "cell_type": "code",
   "metadata": {
    "ExecuteTime": {
     "end_time": "2025-10-22T10:20:25.828725Z",
     "start_time": "2025-10-22T10:20:25.827379Z"
    }
   },
   "source": [],
   "outputs": [],
   "execution_count": null
  }
 ],
 "metadata": {
  "kernelspec": {
   "display_name": "lequan_env",
   "language": "python",
   "name": "python3"
  },
  "language_info": {
   "codemirror_mode": {
    "name": "ipython",
    "version": 3
   },
   "file_extension": ".py",
   "mimetype": "text/x-python",
   "name": "python",
   "nbconvert_exporter": "python",
   "pygments_lexer": "ipython3",
   "version": "3.12.9"
  }
 },
 "nbformat": 4,
 "nbformat_minor": 2
}
