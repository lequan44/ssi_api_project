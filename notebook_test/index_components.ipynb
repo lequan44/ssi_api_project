{
 "cells": [
  {
   "cell_type": "code",
   "metadata": {
    "ExecuteTime": {
     "end_time": "2025-10-22T11:54:24.500069Z",
     "start_time": "2025-10-22T11:54:24.495122Z"
    }
   },
   "source": [
    "import requests \n",
    "import pandas as pd\n",
    "import time\n",
    "import json\n",
    "from datetime import date,datetime,timedelta"
   ],
   "outputs": [],
   "execution_count": 58
  },
  {
   "cell_type": "code",
   "metadata": {
    "ExecuteTime": {
     "end_time": "2025-10-22T11:54:24.507187Z",
     "start_time": "2025-10-22T11:54:24.504736Z"
    }
   },
   "source": [
    "#Declare file config\n",
    "file_path = '../credentials/config.json'\n",
    "\n",
    "#Open and read Json file\n",
    "with open(file_path, \"r\") as file:\n",
    "    config_data = json.load(file)"
   ],
   "outputs": [],
   "execution_count": 59
  },
  {
   "cell_type": "code",
   "metadata": {
    "ExecuteTime": {
     "end_time": "2025-10-22T11:54:24.512668Z",
     "start_time": "2025-10-22T11:54:24.510470Z"
    }
   },
   "source": [
    "current_date = date.today()\n",
    "current_date = current_date.strftime('%d/%m/%Y')\n",
    "print(\"Current Date:\", current_date)\n"
   ],
   "outputs": [
    {
     "name": "stdout",
     "output_type": "stream",
     "text": [
      "Current Date: 22/10/2025\n"
     ]
    }
   ],
   "execution_count": 60
  },
  {
   "cell_type": "code",
   "metadata": {
    "ExecuteTime": {
     "end_time": "2025-10-22T11:54:24.883720Z",
     "start_time": "2025-10-22T11:54:24.526594Z"
    }
   },
   "source": [
    "url = \"https://fc-data.ssi.com.vn/api/v2/Market/AccessToken\"\n",
    "\n",
    "payload = {\n",
    "    \"consumerID\": config_data[\"consumerID\"],\n",
    "    \"consumerSecret\": config_data[\"consumerSecret\"]\n",
    "}\n",
    "\n",
    "headers = {\n",
    "    \"Content-Type\": \"application/json\"\n",
    "}\n",
    "\n",
    "response = requests.post(url, json=payload, headers=headers)\n",
    "if response.status_code == 200:\n",
    "    access_token = response.json()['data'].get(\"accessToken\")\n",
    "else:\n",
    "    print(\"Failed to get access token. Status Code:\", response.status_code)\n",
    "    print(\"Response Body:\", response.text)\n",
    "    exit()"
   ],
   "outputs": [],
   "execution_count": 61
  },
  {
   "cell_type": "code",
   "metadata": {
    "ExecuteTime": {
     "end_time": "2025-10-22T11:54:25.217132Z",
     "start_time": "2025-10-22T11:54:24.904514Z"
    }
   },
   "source": [
    "# Replace with the token you obtained\n",
    "url = \"https://fc-data.ssi.com.vn/api/v2/Market/IndexComponents\"\n",
    "\n",
    "headers = {\n",
    "    \"Authorization\": f\"Bearer {access_token}\",\n",
    "    \"Content-Type\": \"application/json\"\n",
    "}\n",
    "\n",
    "params = {\n",
    "    # \"market\": \"HNX\",\n",
    "    \"pageIndex\": 1,\n",
    "    \"pageSize\": 1000\n",
    "}\n",
    "\n",
    "# Send the GET request\n",
    "response = requests.get(url, headers=headers,params=params)\n",
    "\n",
    "# Print response\n",
    "print(\"Response Body:\", response.json()['data'])"
   ],
   "outputs": [
    {
     "name": "stdout",
     "output_type": "stream",
     "text": [
      "Response Body: [{'IndexCode': 'HNX CONSTRUCTION INDEX', 'IndexName': 'HNX CONSTRUCTION INDEX', 'Exchange': 'HOSE', 'TotalSymbolNo': '47', 'IndexComponent': [{'Isin': 'AME', 'StockSymbol': 'AME'}, {'Isin': 'C69', 'StockSymbol': 'C69'}, {'Isin': 'CMS', 'StockSymbol': 'CMS'}, {'Isin': 'CSC', 'StockSymbol': 'CSC'}, {'Isin': 'CX8', 'StockSymbol': 'CX8'}, {'Isin': 'D11', 'StockSymbol': 'D11'}, {'Isin': 'DC2', 'StockSymbol': 'DC2'}, {'Isin': 'DIH', 'StockSymbol': 'DIH'}, {'Isin': 'DTD', 'StockSymbol': 'DTD'}, {'Isin': 'HUT', 'StockSymbol': 'HUT'}, {'Isin': 'IDC', 'StockSymbol': 'IDC'}, {'Isin': 'L14', 'StockSymbol': 'L14'}, {'Isin': 'L18', 'StockSymbol': 'L18'}, {'Isin': 'L40', 'StockSymbol': 'L40'}, {'Isin': 'LHC', 'StockSymbol': 'LHC'}, {'Isin': 'LIG', 'StockSymbol': 'LIG'}, {'Isin': 'MCO', 'StockSymbol': 'MCO'}, {'Isin': 'MST', 'StockSymbol': 'MST'}, {'Isin': 'NDX', 'StockSymbol': 'NDX'}, {'Isin': 'PIC', 'StockSymbol': 'PIC'}, {'Isin': 'PTD', 'StockSymbol': 'PTD'}, {'Isin': 'QTC', 'StockSymbol': 'QTC'}, {'Isin': 'RCL', 'StockSymbol': 'RCL'}, {'Isin': 'S55', 'StockSymbol': 'S55'}, {'Isin': 'S99', 'StockSymbol': 'S99'}, {'Isin': 'SCG', 'StockSymbol': 'SCG'}, {'Isin': 'SCI', 'StockSymbol': 'SCI'}, {'Isin': 'SD5', 'StockSymbol': 'SD5'}, {'Isin': 'SD9', 'StockSymbol': 'SD9'}, {'Isin': 'SDA', 'StockSymbol': 'SDA'}, {'Isin': 'SJE', 'StockSymbol': 'SJE'}, {'Isin': 'SVN', 'StockSymbol': 'SVN'}, {'Isin': 'TA9', 'StockSymbol': 'TA9'}, {'Isin': 'TTL', 'StockSymbol': 'TTL'}, {'Isin': 'UNI', 'StockSymbol': 'UNI'}, {'Isin': 'V12', 'StockSymbol': 'V12'}, {'Isin': 'V21', 'StockSymbol': 'V21'}, {'Isin': 'VC1', 'StockSymbol': 'VC1'}, {'Isin': 'VC2', 'StockSymbol': 'VC2'}, {'Isin': 'VC6', 'StockSymbol': 'VC6'}, {'Isin': 'VC7', 'StockSymbol': 'VC7'}, {'Isin': 'VC9', 'StockSymbol': 'VC9'}, {'Isin': 'VCC', 'StockSymbol': 'VCC'}, {'Isin': 'VE1', 'StockSymbol': 'VE1'}, {'Isin': 'VE3', 'StockSymbol': 'VE3'}, {'Isin': 'VE4', 'StockSymbol': 'VE4'}, {'Isin': 'VMC', 'StockSymbol': 'VMC'}]}, {'IndexCode': 'HNX FINANCIALS INDEX', 'IndexName': 'HNX FINANCIALS INDEX', 'Exchange': 'HOSE', 'TotalSymbolNo': '22', 'IndexComponent': [{'Isin': 'API', 'StockSymbol': 'API'}, {'Isin': 'APS', 'StockSymbol': 'APS'}, {'Isin': 'BAB', 'StockSymbol': 'BAB'}, {'Isin': 'BVS', 'StockSymbol': 'BVS'}, {'Isin': 'EVS', 'StockSymbol': 'EVS'}, {'Isin': 'HBS', 'StockSymbol': 'HBS'}, {'Isin': 'IPA', 'StockSymbol': 'IPA'}, {'Isin': 'IVS', 'StockSymbol': 'IVS'}, {'Isin': 'MBS', 'StockSymbol': 'MBS'}, {'Isin': 'NVB', 'StockSymbol': 'NVB'}, {'Isin': 'PRE', 'StockSymbol': 'PRE'}, {'Isin': 'PSI', 'StockSymbol': 'PSI'}, {'Isin': 'PTI', 'StockSymbol': 'PTI'}, {'Isin': 'PV2', 'StockSymbol': 'PV2'}, {'Isin': 'PVI', 'StockSymbol': 'PVI'}, {'Isin': 'SHN', 'StockSymbol': 'SHN'}, {'Isin': 'SHS', 'StockSymbol': 'SHS'}, {'Isin': 'TIG', 'StockSymbol': 'TIG'}, {'Isin': 'VFS', 'StockSymbol': 'VFS'}, {'Isin': 'VIG', 'StockSymbol': 'VIG'}, {'Isin': 'VNR', 'StockSymbol': 'VNR'}, {'Isin': 'WSS', 'StockSymbol': 'WSS'}]}, {'IndexCode': 'HNX LARGE CAP INDEX', 'IndexName': 'HNX LARGE CAP INDEX', 'Exchange': 'HOSE', 'TotalSymbolNo': '50', 'IndexComponent': [{'Isin': 'APS', 'StockSymbol': 'APS'}, {'Isin': 'BAB', 'StockSymbol': 'BAB'}, {'Isin': 'BCF', 'StockSymbol': 'BCF'}, {'Isin': 'BVS', 'StockSymbol': 'BVS'}, {'Isin': 'CAP', 'StockSymbol': 'CAP'}, {'Isin': 'CEO', 'StockSymbol': 'CEO'}, {'Isin': 'CSC', 'StockSymbol': 'CSC'}, {'Isin': 'DHT', 'StockSymbol': 'DHT'}, {'Isin': 'DNP', 'StockSymbol': 'DNP'}, {'Isin': 'DP3', 'StockSymbol': 'DP3'}, {'Isin': 'DTD', 'StockSymbol': 'DTD'}, {'Isin': 'EVS', 'StockSymbol': 'EVS'}, {'Isin': 'HGM', 'StockSymbol': 'HGM'}, {'Isin': 'HHC', 'StockSymbol': 'HHC'}, {'Isin': 'HUT', 'StockSymbol': 'HUT'}, {'Isin': 'IDC', 'StockSymbol': 'IDC'}, {'Isin': 'IDJ', 'StockSymbol': 'IDJ'}, {'Isin': 'IDV', 'StockSymbol': 'IDV'}, {'Isin': 'INN', 'StockSymbol': 'INN'}, {'Isin': 'IPA', 'StockSymbol': 'IPA'}, {'Isin': 'KSF', 'StockSymbol': 'KSF'}, {'Isin': 'L14', 'StockSymbol': 'L14'}, {'Isin': 'L18', 'StockSymbol': 'L18'}, {'Isin': 'LAS', 'StockSymbol': 'LAS'}, {'Isin': 'LHC', 'StockSymbol': 'LHC'}, {'Isin': 'MBS', 'StockSymbol': 'MBS'}, {'Isin': 'NDN', 'StockSymbol': 'NDN'}, {'Isin': 'NTP', 'StockSymbol': 'NTP'}, {'Isin': 'NVB', 'StockSymbol': 'NVB'}, {'Isin': 'OCH', 'StockSymbol': 'OCH'}, {'Isin': 'PGS', 'StockSymbol': 'PGS'}, {'Isin': 'PLC', 'StockSymbol': 'PLC'}, {'Isin': 'PTI', 'StockSymbol': 'PTI'}, {'Isin': 'PVC', 'StockSymbol': 'PVC'}, {'Isin': 'PVI', 'StockSymbol': 'PVI'}, {'Isin': 'PVS', 'StockSymbol': 'PVS'}, {'Isin': 'S99', 'StockSymbol': 'S99'}, {'Isin': 'SCG', 'StockSymbol': 'SCG'}, {'Isin': 'SHN', 'StockSymbol': 'SHN'}, {'Isin': 'SHS', 'StockSymbol': 'SHS'}, {'Isin': 'THD', 'StockSymbol': 'THD'}, {'Isin': 'TIG', 'StockSymbol': 'TIG'}, {'Isin': 'TNG', 'StockSymbol': 'TNG'}, {'Isin': 'TVC', 'StockSymbol': 'TVC'}, {'Isin': 'VC3', 'StockSymbol': 'VC3'}, {'Isin': 'VCS', 'StockSymbol': 'VCS'}, {'Isin': 'VFS', 'StockSymbol': 'VFS'}, {'Isin': 'VGS', 'StockSymbol': 'VGS'}, {'Isin': 'VIF', 'StockSymbol': 'VIF'}, {'Isin': 'VNR', 'StockSymbol': 'VNR'}]}, {'IndexCode': 'HNX MANUFACTURING INDEX', 'IndexName': 'HNX MANUFACTURING INDEX', 'Exchange': 'HOSE', 'TotalSymbolNo': '94', 'IndexComponent': [{'Isin': 'ALT', 'StockSymbol': 'ALT'}, {'Isin': 'BBS', 'StockSymbol': 'BBS'}, {'Isin': 'BCC', 'StockSymbol': 'BCC'}, {'Isin': 'BCF', 'StockSymbol': 'BCF'}, {'Isin': 'BNA', 'StockSymbol': 'BNA'}, {'Isin': 'BPC', 'StockSymbol': 'BPC'}, {'Isin': 'BTS', 'StockSymbol': 'BTS'}, {'Isin': 'BTW', 'StockSymbol': 'BTW'}, {'Isin': 'BXH', 'StockSymbol': 'BXH'}, {'Isin': 'CAN', 'StockSymbol': 'CAN'}, {'Isin': 'CAP', 'StockSymbol': 'CAP'}, {'Isin': 'CET', 'StockSymbol': 'CET'}, {'Isin': 'CLH', 'StockSymbol': 'CLH'}, {'Isin': 'CPC', 'StockSymbol': 'CPC'}, {'Isin': 'CTB', 'StockSymbol': 'CTB'}, {'Isin': 'CTP', 'StockSymbol': 'CTP'}, {'Isin': 'CTT', 'StockSymbol': 'CTT'}, {'Isin': 'DHP', 'StockSymbol': 'DHP'}, {'Isin': 'DNC', 'StockSymbol': 'DNC'}, {'Isin': 'DNP', 'StockSymbol': 'DNP'}, {'Isin': 'GDW', 'StockSymbol': 'GDW'}, {'Isin': 'GKM', 'StockSymbol': 'GKM'}, {'Isin': 'GMX', 'StockSymbol': 'GMX'}, {'Isin': 'HAD', 'StockSymbol': 'HAD'}, {'Isin': 'HCC', 'StockSymbol': 'HCC'}, {'Isin': 'HDA', 'StockSymbol': 'HDA'}, {'Isin': 'HHC', 'StockSymbol': 'HHC'}, {'Isin': 'HJS', 'StockSymbol': 'HJS'}, {'Isin': 'HMR', 'StockSymbol': 'HMR'}, {'Isin': 'HOM', 'StockSymbol': 'HOM'}, {'Isin': 'HVT', 'StockSymbol': 'HVT'}, {'Isin': 'INN', 'StockSymbol': 'INN'}, {'Isin': 'ITQ', 'StockSymbol': 'ITQ'}, {'Isin': 'KSD', 'StockSymbol': 'KSD'}, {'Isin': 'KTS', 'StockSymbol': 'KTS'}, {'Isin': 'LAS', 'StockSymbol': 'LAS'}, {'Isin': 'MAC', 'StockSymbol': 'MAC'}, {'Isin': 'MBG', 'StockSymbol': 'MBG'}, {'Isin': 'MCC', 'StockSymbol': 'MCC'}, {'Isin': 'MCF', 'StockSymbol': 'MCF'}, {'Isin': 'MEL', 'StockSymbol': 'MEL'}, {'Isin': 'NAG', 'StockSymbol': 'NAG'}, {'Isin': 'NBP', 'StockSymbol': 'NBP'}, {'Isin': 'NBW', 'StockSymbol': 'NBW'}, {'Isin': 'NET', 'StockSymbol': 'NET'}, {'Isin': 'NFC', 'StockSymbol': 'NFC'}, {'Isin': 'NHC', 'StockSymbol': 'NHC'}, {'Isin': 'NSH', 'StockSymbol': 'NSH'}, {'Isin': 'NST', 'StockSymbol': 'NST'}, {'Isin': 'NTH', 'StockSymbol': 'NTH'}, {'Isin': 'NTP', 'StockSymbol': 'NTP'}, {'Isin': 'PBP', 'StockSymbol': 'PBP'}, {'Isin': 'PCE', 'StockSymbol': 'PCE'}, {'Isin': 'PCH', 'StockSymbol': 'PCH'}, {'Isin': 'PDB', 'StockSymbol': 'PDB'}, {'Isin': 'PGN', 'StockSymbol': 'PGN'}, {'Isin': 'PHN', 'StockSymbol': 'PHN'}, {'Isin': 'PMP', 'StockSymbol': 'PMP'}, {'Isin': 'PMS', 'StockSymbol': 'PMS'}, {'Isin': 'PPS', 'StockSymbol': 'PPS'}, {'Isin': 'PSE', 'StockSymbol': 'PSE'}, {'Isin': 'PSW', 'StockSymbol': 'PSW'}, {'Isin': 'QHD', 'StockSymbol': 'QHD'}, {'Isin': 'SAF', 'StockSymbol': 'SAF'}, {'Isin': 'SDG', 'StockSymbol': 'SDG'}, {'Isin': 'SDN', 'StockSymbol': 'SDN'}, {'Isin': 'SEB', 'StockSymbol': 'SEB'}, {'Isin': 'SFN', 'StockSymbol': 'SFN'}, {'Isin': 'SGC', 'StockSymbol': 'SGC'}, {'Isin': 'SHE', 'StockSymbol': 'SHE'}, {'Isin': 'SJ1', 'StockSymbol': 'SJ1'}, {'Isin': 'SLS', 'StockSymbol': 'SLS'}, {'Isin': 'SPC', 'StockSymbol': 'SPC'}, {'Isin': 'SSM', 'StockSymbol': 'SSM'}, {'Isin': 'STP', 'StockSymbol': 'STP'}, {'Isin': 'TBX', 'StockSymbol': 'TBX'}, {'Isin': 'TDT', 'StockSymbol': 'TDT'}, {'Isin': 'TFC', 'StockSymbol': 'TFC'}, {'Isin': 'THB', 'StockSymbol': 'THB'}, {'Isin': 'TKU', 'StockSymbol': 'TKU'}, {'Isin': 'TNG', 'StockSymbol': 'TNG'}, {'Isin': 'TPP', 'StockSymbol': 'TPP'}, {'Isin': 'TSB', 'StockSymbol': 'TSB'}, {'Isin': 'TTC', 'StockSymbol': 'TTC'}, {'Isin': 'VBC', 'StockSymbol': 'VBC'}, {'Isin': 'VCS', 'StockSymbol': 'VCS'}, {'Isin': 'VDL', 'StockSymbol': 'VDL'}, {'Isin': 'VGS', 'StockSymbol': 'VGS'}, {'Isin': 'VHE', 'StockSymbol': 'VHE'}, {'Isin': 'VHL', 'StockSymbol': 'VHL'}, {'Isin': 'VIT', 'StockSymbol': 'VIT'}, {'Isin': 'VTH', 'StockSymbol': 'VTH'}, {'Isin': 'VTZ', 'StockSymbol': 'VTZ'}, {'Isin': 'X20', 'StockSymbol': 'X20'}]}, {'IndexCode': 'HNX MID/SMALL CAP INDEX', 'IndexName': 'HNX MID/SMALL CAP INDEX', 'Exchange': 'HOSE', 'TotalSymbolNo': '243', 'IndexComponent': [{'Isin': 'AAV', 'StockSymbol': 'AAV'}, {'Isin': 'ADC', 'StockSymbol': 'ADC'}, {'Isin': 'ALT', 'StockSymbol': 'ALT'}, {'Isin': 'AMC', 'StockSymbol': 'AMC'}, {'Isin': 'AME', 'StockSymbol': 'AME'}, {'Isin': 'AMV', 'StockSymbol': 'AMV'}, {'Isin': 'API', 'StockSymbol': 'API'}, {'Isin': 'ARM', 'StockSymbol': 'ARM'}, {'Isin': 'ATS', 'StockSymbol': 'ATS'}, {'Isin': 'BAX', 'StockSymbol': 'BAX'}, {'Isin': 'BBS', 'StockSymbol': 'BBS'}, {'Isin': 'BCC', 'StockSymbol': 'BCC'}, {'Isin': 'BED', 'StockSymbol': 'BED'}, {'Isin': 'BKC', 'StockSymbol': 'BKC'}, {'Isin': 'BNA', 'StockSymbol': 'BNA'}, {'Isin': 'BPC', 'StockSymbol': 'BPC'}, {'Isin': 'BSC', 'StockSymbol': 'BSC'}, {'Isin': 'BTS', 'StockSymbol': 'BTS'}, {'Isin': 'BTW', 'StockSymbol': 'BTW'}, {'Isin': 'BXH', 'StockSymbol': 'BXH'}, {'Isin': 'C69', 'StockSymbol': 'C69'}, {'Isin': 'CAG', 'StockSymbol': 'CAG'}, {'Isin': 'CAN', 'StockSymbol': 'CAN'}, {'Isin': 'CAR', 'StockSymbol': 'CAR'}, {'Isin': 'CET', 'StockSymbol': 'CET'}, {'Isin': 'CIA', 'StockSymbol': 'CIA'}, {'Isin': 'CKV', 'StockSymbol': 'CKV'}, {'Isin': 'CLH', 'StockSymbol': 'CLH'}, {'Isin': 'CLM', 'StockSymbol': 'CLM'}, {'Isin': 'CMC', 'StockSymbol': 'CMC'}, {'Isin': 'CMS', 'StockSymbol': 'CMS'}, {'Isin': 'CPC', 'StockSymbol': 'CPC'}, {'Isin': 'CST', 'StockSymbol': 'CST'}, {'Isin': 'CTB', 'StockSymbol': 'CTB'}, {'Isin': 'CTP', 'StockSymbol': 'CTP'}, {'Isin': 'CTT', 'StockSymbol': 'CTT'}, {'Isin': 'CX8', 'StockSymbol': 'CX8'}, {'Isin': 'D11', 'StockSymbol': 'D11'}, {'Isin': 'DAD', 'StockSymbol': 'DAD'}, {'Isin': 'DAE', 'StockSymbol': 'DAE'}, {'Isin': 'DC2', 'StockSymbol': 'DC2'}, {'Isin': 'DDG', 'StockSymbol': 'DDG'}, {'Isin': 'DHP', 'StockSymbol': 'DHP'}, {'Isin': 'DIH', 'StockSymbol': 'DIH'}, {'Isin': 'DL1', 'StockSymbol': 'DL1'}, {'Isin': 'DS3', 'StockSymbol': 'DS3'}, {'Isin': 'DST', 'StockSymbol': 'DST'}, {'Isin': 'DVM', 'StockSymbol': 'DVM'}, {'Isin': 'EBS', 'StockSymbol': 'EBS'}, {'Isin': 'ECI', 'StockSymbol': 'ECI'}, {'Isin': 'EID', 'StockSymbol': 'EID'}, {'Isin': 'FID', 'StockSymbol': 'FID'}, {'Isin': 'GDW', 'StockSymbol': 'GDW'}, {'Isin': 'GIC', 'StockSymbol': 'GIC'}, {'Isin': 'GKM', 'StockSymbol': 'GKM'}, {'Isin': 'GLT', 'StockSymbol': 'GLT'}, {'Isin': 'GMA', 'StockSymbol': 'GMA'}, {'Isin': 'GMX', 'StockSymbol': 'GMX'}, {'Isin': 'HAD', 'StockSymbol': 'HAD'}, {'Isin': 'HAT', 'StockSymbol': 'HAT'}, {'Isin': 'HBS', 'StockSymbol': 'HBS'}, {'Isin': 'HCC', 'StockSymbol': 'HCC'}, {'Isin': 'HCT', 'StockSymbol': 'HCT'}, {'Isin': 'HDA', 'StockSymbol': 'HDA'}, {'Isin': 'HEV', 'StockSymbol': 'HEV'}, {'Isin': 'HJS', 'StockSymbol': 'HJS'}, {'Isin': 'HKT', 'StockSymbol': 'HKT'}, {'Isin': 'HLC', 'StockSymbol': 'HLC'}, {'Isin': 'HLD', 'StockSymbol': 'HLD'}, {'Isin': 'HMH', 'StockSymbol': 'HMH'}, {'Isin': 'HMR', 'StockSymbol': 'HMR'}, {'Isin': 'HOM', 'StockSymbol': 'HOM'}, {'Isin': 'HTC', 'StockSymbol': 'HTC'}, {'Isin': 'HVT', 'StockSymbol': 'HVT'}, {'Isin': 'ICG', 'StockSymbol': 'ICG'}, {'Isin': 'INC', 'StockSymbol': 'INC'}, {'Isin': 'ITQ', 'StockSymbol': 'ITQ'}, {'Isin': 'IVS', 'StockSymbol': 'IVS'}, {'Isin': 'KDM', 'StockSymbol': 'KDM'}, {'Isin': 'KHS', 'StockSymbol': 'KHS'}, {'Isin': 'KKC', 'StockSymbol': 'KKC'}, {'Isin': 'KMT', 'StockSymbol': 'KMT'}, {'Isin': 'KSD', 'StockSymbol': 'KSD'}, {'Isin': 'KST', 'StockSymbol': 'KST'}, {'Isin': 'KTS', 'StockSymbol': 'KTS'}, {'Isin': 'L40', 'StockSymbol': 'L40'}, {'Isin': 'LBE', 'StockSymbol': 'LBE'}, {'Isin': 'LDP', 'StockSymbol': 'LDP'}, {'Isin': 'LIG', 'StockSymbol': 'LIG'}, {'Isin': 'MAC', 'StockSymbol': 'MAC'}, {'Isin': 'MAS', 'StockSymbol': 'MAS'}, {'Isin': 'MBG', 'StockSymbol': 'MBG'}, {'Isin': 'MCC', 'StockSymbol': 'MCC'}, {'Isin': 'MCF', 'StockSymbol': 'MCF'}, {'Isin': 'MCO', 'StockSymbol': 'MCO'}, {'Isin': 'MDC', 'StockSymbol': 'MDC'}, {'Isin': 'MED', 'StockSymbol': 'MED'}, {'Isin': 'MEL', 'StockSymbol': 'MEL'}, {'Isin': 'MIC', 'StockSymbol': 'MIC'}, {'Isin': 'MKV', 'StockSymbol': 'MKV'}, {'Isin': 'MST', 'StockSymbol': 'MST'}, {'Isin': 'NAG', 'StockSymbol': 'NAG'}, {'Isin': 'NAP', 'StockSymbol': 'NAP'}, {'Isin': 'NBC', 'StockSymbol': 'NBC'}, {'Isin': 'NBP', 'StockSymbol': 'NBP'}, {'Isin': 'NBW', 'StockSymbol': 'NBW'}, {'Isin': 'NDX', 'StockSymbol': 'NDX'}, {'Isin': 'NET', 'StockSymbol': 'NET'}, {'Isin': 'NFC', 'StockSymbol': 'NFC'}, {'Isin': 'NHC', 'StockSymbol': 'NHC'}, {'Isin': 'NRC', 'StockSymbol': 'NRC'}, {'Isin': 'NSH', 'StockSymbol': 'NSH'}, {'Isin': 'NST', 'StockSymbol': 'NST'}, {'Isin': 'NTH', 'StockSymbol': 'NTH'}, {'Isin': 'ONE', 'StockSymbol': 'ONE'}, {'Isin': 'PBP', 'StockSymbol': 'PBP'}, {'Isin': 'PCE', 'StockSymbol': 'PCE'}, {'Isin': 'PCH', 'StockSymbol': 'PCH'}, {'Isin': 'PCT', 'StockSymbol': 'PCT'}, {'Isin': 'PDB', 'StockSymbol': 'PDB'}, {'Isin': 'PEN', 'StockSymbol': 'PEN'}, {'Isin': 'PGN', 'StockSymbol': 'PGN'}, {'Isin': 'PGT', 'StockSymbol': 'PGT'}, {'Isin': 'PHN', 'StockSymbol': 'PHN'}, {'Isin': 'PIA', 'StockSymbol': 'PIA'}, {'Isin': 'PIC', 'StockSymbol': 'PIC'}, {'Isin': 'PJC', 'StockSymbol': 'PJC'}, {'Isin': 'PMB', 'StockSymbol': 'PMB'}, {'Isin': 'PMC', 'StockSymbol': 'PMC'}, {'Isin': 'PMP', 'StockSymbol': 'PMP'}, {'Isin': 'PMS', 'StockSymbol': 'PMS'}, {'Isin': 'POT', 'StockSymbol': 'POT'}, {'Isin': 'PPE', 'StockSymbol': 'PPE'}, {'Isin': 'PPP', 'StockSymbol': 'PPP'}, {'Isin': 'PPS', 'StockSymbol': 'PPS'}, {'Isin': 'PPT', 'StockSymbol': 'PPT'}, {'Isin': 'PPY', 'StockSymbol': 'PPY'}, {'Isin': 'PRC', 'StockSymbol': 'PRC'}, {'Isin': 'PRE', 'StockSymbol': 'PRE'}, {'Isin': 'PSC', 'StockSymbol': 'PSC'}, {'Isin': 'PSD', 'StockSymbol': 'PSD'}, {'Isin': 'PSE', 'StockSymbol': 'PSE'}, {'Isin': 'PSI', 'StockSymbol': 'PSI'}, {'Isin': 'PSW', 'StockSymbol': 'PSW'}, {'Isin': 'PTD', 'StockSymbol': 'PTD'}, {'Isin': 'PTS', 'StockSymbol': 'PTS'}, {'Isin': 'PTX', 'StockSymbol': 'PTX'}, {'Isin': 'PV2', 'StockSymbol': 'PV2'}, {'Isin': 'PVB', 'StockSymbol': 'PVB'}, {'Isin': 'PVG', 'StockSymbol': 'PVG'}, {'Isin': 'QHD', 'StockSymbol': 'QHD'}, {'Isin': 'QST', 'StockSymbol': 'QST'}, {'Isin': 'QTC', 'StockSymbol': 'QTC'}, {'Isin': 'RCL', 'StockSymbol': 'RCL'}, {'Isin': 'S55', 'StockSymbol': 'S55'}, {'Isin': 'SAF', 'StockSymbol': 'SAF'}, {'Isin': 'SCI', 'StockSymbol': 'SCI'}, {'Isin': 'SD5', 'StockSymbol': 'SD5'}, {'Isin': 'SD9', 'StockSymbol': 'SD9'}, {'Isin': 'SDA', 'StockSymbol': 'SDA'}, {'Isin': 'SDC', 'StockSymbol': 'SDC'}, {'Isin': 'SDG', 'StockSymbol': 'SDG'}, {'Isin': 'SDN', 'StockSymbol': 'SDN'}, {'Isin': 'SDU', 'StockSymbol': 'SDU'}, {'Isin': 'SEB', 'StockSymbol': 'SEB'}, {'Isin': 'SED', 'StockSymbol': 'SED'}, {'Isin': 'SFN', 'StockSymbol': 'SFN'}, {'Isin': 'SGC', 'StockSymbol': 'SGC'}, {'Isin': 'SGD', 'StockSymbol': 'SGD'}, {'Isin': 'SGH', 'StockSymbol': 'SGH'}, {'Isin': 'SHE', 'StockSymbol': 'SHE'}, {'Isin': 'SJ1', 'StockSymbol': 'SJ1'}, {'Isin': 'SJE', 'StockSymbol': 'SJE'}, {'Isin': 'SLS', 'StockSymbol': 'SLS'}, {'Isin': 'SMN', 'StockSymbol': 'SMN'}, {'Isin': 'SMT', 'StockSymbol': 'SMT'}, {'Isin': 'SPC', 'StockSymbol': 'SPC'}, {'Isin': 'SRA', 'StockSymbol': 'SRA'}, {'Isin': 'SSM', 'StockSymbol': 'SSM'}, {'Isin': 'STC', 'StockSymbol': 'STC'}, {'Isin': 'STP', 'StockSymbol': 'STP'}, {'Isin': 'SVN', 'StockSymbol': 'SVN'}, {'Isin': 'SZB', 'StockSymbol': 'SZB'}, {'Isin': 'TA9', 'StockSymbol': 'TA9'}, {'Isin': 'TBX', 'StockSymbol': 'TBX'}, {'Isin': 'TDT', 'StockSymbol': 'TDT'}, {'Isin': 'TET', 'StockSymbol': 'TET'}, {'Isin': 'TFC', 'StockSymbol': 'TFC'}, {'Isin': 'THB', 'StockSymbol': 'THB'}, {'Isin': 'THS', 'StockSymbol': 'THS'}, {'Isin': 'THT', 'StockSymbol': 'THT'}, {'Isin': 'TJC', 'StockSymbol': 'TJC'}, {'Isin': 'TKU', 'StockSymbol': 'TKU'}, {'Isin': 'TMB', 'StockSymbol': 'TMB'}, {'Isin': 'TMC', 'StockSymbol': 'TMC'}, {'Isin': 'TMX', 'StockSymbol': 'TMX'}, {'Isin': 'TOT', 'StockSymbol': 'TOT'}, {'Isin': 'TPP', 'StockSymbol': 'TPP'}, {'Isin': 'TSB', 'StockSymbol': 'TSB'}, {'Isin': 'TTC', 'StockSymbol': 'TTC'}, {'Isin': 'TTH', 'StockSymbol': 'TTH'}, {'Isin': 'TTL', 'StockSymbol': 'TTL'}, {'Isin': 'TTT', 'StockSymbol': 'TTT'}, {'Isin': 'TV3', 'StockSymbol': 'TV3'}, {'Isin': 'TV4', 'StockSymbol': 'TV4'}, {'Isin': 'TVD', 'StockSymbol': 'TVD'}, {'Isin': 'TXM', 'StockSymbol': 'TXM'}, {'Isin': 'UNI', 'StockSymbol': 'UNI'}, {'Isin': 'V12', 'StockSymbol': 'V12'}, {'Isin': 'V21', 'StockSymbol': 'V21'}, {'Isin': 'VBC', 'StockSymbol': 'VBC'}, {'Isin': 'VC1', 'StockSymbol': 'VC1'}, {'Isin': 'VC2', 'StockSymbol': 'VC2'}, {'Isin': 'VC6', 'StockSymbol': 'VC6'}, {'Isin': 'VC7', 'StockSymbol': 'VC7'}, {'Isin': 'VC9', 'StockSymbol': 'VC9'}, {'Isin': 'VCC', 'StockSymbol': 'VCC'}, {'Isin': 'VCM', 'StockSymbol': 'VCM'}, {'Isin': 'VDL', 'StockSymbol': 'VDL'}, {'Isin': 'VE1', 'StockSymbol': 'VE1'}, {'Isin': 'VE3', 'StockSymbol': 'VE3'}, {'Isin': 'VE4', 'StockSymbol': 'VE4'}, {'Isin': 'VGP', 'StockSymbol': 'VGP'}, {'Isin': 'VHE', 'StockSymbol': 'VHE'}, {'Isin': 'VHL', 'StockSymbol': 'VHL'}, {'Isin': 'VIG', 'StockSymbol': 'VIG'}, {'Isin': 'VIT', 'StockSymbol': 'VIT'}, {'Isin': 'VLA', 'StockSymbol': 'VLA'}, {'Isin': 'VMC', 'StockSymbol': 'VMC'}, {'Isin': 'VMS', 'StockSymbol': 'VMS'}, {'Isin': 'VNC', 'StockSymbol': 'VNC'}, {'Isin': 'VNF', 'StockSymbol': 'VNF'}, {'Isin': 'VNT', 'StockSymbol': 'VNT'}, {'Isin': 'VSA', 'StockSymbol': 'VSA'}, {'Isin': 'VSM', 'StockSymbol': 'VSM'}, {'Isin': 'VTC', 'StockSymbol': 'VTC'}, {'Isin': 'VTH', 'StockSymbol': 'VTH'}, {'Isin': 'VTJ', 'StockSymbol': 'VTJ'}, {'Isin': 'VTV', 'StockSymbol': 'VTV'}, {'Isin': 'VTZ', 'StockSymbol': 'VTZ'}, {'Isin': 'WCS', 'StockSymbol': 'WCS'}, {'Isin': 'WSS', 'StockSymbol': 'WSS'}, {'Isin': 'X20', 'StockSymbol': 'X20'}]}, {'IndexCode': 'HNX30', 'IndexName': 'HNX30', 'Exchange': 'HOSE', 'TotalSymbolNo': '30', 'IndexComponent': [{'Isin': 'BVS', 'StockSymbol': 'BVS'}, {'Isin': 'CAP', 'StockSymbol': 'CAP'}, {'Isin': 'CEO', 'StockSymbol': 'CEO'}, {'Isin': 'DHT', 'StockSymbol': 'DHT'}, {'Isin': 'DTD', 'StockSymbol': 'DTD'}, {'Isin': 'DVM', 'StockSymbol': 'DVM'}, {'Isin': 'DXP', 'StockSymbol': 'DXP'}, {'Isin': 'HUT', 'StockSymbol': 'HUT'}, {'Isin': 'IDC', 'StockSymbol': 'IDC'}, {'Isin': 'IDV', 'StockSymbol': 'IDV'}, {'Isin': 'L14', 'StockSymbol': 'L14'}, {'Isin': 'L18', 'StockSymbol': 'L18'}, {'Isin': 'LAS', 'StockSymbol': 'LAS'}, {'Isin': 'LHC', 'StockSymbol': 'LHC'}, {'Isin': 'MBS', 'StockSymbol': 'MBS'}, {'Isin': 'NTP', 'StockSymbol': 'NTP'}, {'Isin': 'PLC', 'StockSymbol': 'PLC'}, {'Isin': 'PSD', 'StockSymbol': 'PSD'}, {'Isin': 'PVB', 'StockSymbol': 'PVB'}, {'Isin': 'PVC', 'StockSymbol': 'PVC'}, {'Isin': 'PVI', 'StockSymbol': 'PVI'}, {'Isin': 'PVS', 'StockSymbol': 'PVS'}, {'Isin': 'SHS', 'StockSymbol': 'SHS'}, {'Isin': 'SLS', 'StockSymbol': 'SLS'}, {'Isin': 'TMB', 'StockSymbol': 'TMB'}, {'Isin': 'TNG', 'StockSymbol': 'TNG'}, {'Isin': 'TVD', 'StockSymbol': 'TVD'}, {'Isin': 'VC3', 'StockSymbol': 'VC3'}, {'Isin': 'VCS', 'StockSymbol': 'VCS'}, {'Isin': 'VGP', 'StockSymbol': 'VGP'}]}, {'IndexCode': 'HNXINDEX', 'IndexName': 'HNXINDEX', 'Exchange': 'HOSE', 'TotalSymbolNo': '297', 'IndexComponent': [{'Isin': 'AAV', 'StockSymbol': 'AAV'}, {'Isin': 'ADC', 'StockSymbol': 'ADC'}, {'Isin': 'ALT', 'StockSymbol': 'ALT'}, {'Isin': 'AMC', 'StockSymbol': 'AMC'}, {'Isin': 'AME', 'StockSymbol': 'AME'}, {'Isin': 'AMV', 'StockSymbol': 'AMV'}, {'Isin': 'API', 'StockSymbol': 'API'}, {'Isin': 'APS', 'StockSymbol': 'APS'}, {'Isin': 'ARM', 'StockSymbol': 'ARM'}, {'Isin': 'ATS', 'StockSymbol': 'ATS'}, {'Isin': 'BAB', 'StockSymbol': 'BAB'}, {'Isin': 'BAX', 'StockSymbol': 'BAX'}, {'Isin': 'BBS', 'StockSymbol': 'BBS'}, {'Isin': 'BCC', 'StockSymbol': 'BCC'}, {'Isin': 'BCF', 'StockSymbol': 'BCF'}, {'Isin': 'BED', 'StockSymbol': 'BED'}, {'Isin': 'BKC', 'StockSymbol': 'BKC'}, {'Isin': 'BNA', 'StockSymbol': 'BNA'}, {'Isin': 'BPC', 'StockSymbol': 'BPC'}, {'Isin': 'BSC', 'StockSymbol': 'BSC'}, {'Isin': 'BTS', 'StockSymbol': 'BTS'}, {'Isin': 'BTW', 'StockSymbol': 'BTW'}, {'Isin': 'BVS', 'StockSymbol': 'BVS'}, {'Isin': 'BXH', 'StockSymbol': 'BXH'}, {'Isin': 'C69', 'StockSymbol': 'C69'}, {'Isin': 'CAG', 'StockSymbol': 'CAG'}, {'Isin': 'CAN', 'StockSymbol': 'CAN'}, {'Isin': 'CAP', 'StockSymbol': 'CAP'}, {'Isin': 'CAR', 'StockSymbol': 'CAR'}, {'Isin': 'CEO', 'StockSymbol': 'CEO'}, {'Isin': 'CET', 'StockSymbol': 'CET'}, {'Isin': 'CIA', 'StockSymbol': 'CIA'}, {'Isin': 'CKV', 'StockSymbol': 'CKV'}, {'Isin': 'CLH', 'StockSymbol': 'CLH'}, {'Isin': 'CLM', 'StockSymbol': 'CLM'}, {'Isin': 'CMC', 'StockSymbol': 'CMC'}, {'Isin': 'CMS', 'StockSymbol': 'CMS'}, {'Isin': 'CPC', 'StockSymbol': 'CPC'}, {'Isin': 'CSC', 'StockSymbol': 'CSC'}, {'Isin': 'CST', 'StockSymbol': 'CST'}, {'Isin': 'CTB', 'StockSymbol': 'CTB'}, {'Isin': 'CTP', 'StockSymbol': 'CTP'}, {'Isin': 'CTT', 'StockSymbol': 'CTT'}, {'Isin': 'CX8', 'StockSymbol': 'CX8'}, {'Isin': 'D11', 'StockSymbol': 'D11'}, {'Isin': 'DAD', 'StockSymbol': 'DAD'}, {'Isin': 'DAE', 'StockSymbol': 'DAE'}, {'Isin': 'DC2', 'StockSymbol': 'DC2'}, {'Isin': 'DDG', 'StockSymbol': 'DDG'}, {'Isin': 'DHP', 'StockSymbol': 'DHP'}, {'Isin': 'DHT', 'StockSymbol': 'DHT'}, {'Isin': 'DIH', 'StockSymbol': 'DIH'}, {'Isin': 'DL1', 'StockSymbol': 'DL1'}, {'Isin': 'DNC', 'StockSymbol': 'DNC'}, {'Isin': 'DNP', 'StockSymbol': 'DNP'}, {'Isin': 'DP3', 'StockSymbol': 'DP3'}, {'Isin': 'DS3', 'StockSymbol': 'DS3'}, {'Isin': 'DST', 'StockSymbol': 'DST'}, {'Isin': 'DTD', 'StockSymbol': 'DTD'}, {'Isin': 'DTG', 'StockSymbol': 'DTG'}, {'Isin': 'DVM', 'StockSymbol': 'DVM'}, {'Isin': 'DXP', 'StockSymbol': 'DXP'}, {'Isin': 'EBS', 'StockSymbol': 'EBS'}, {'Isin': 'ECI', 'StockSymbol': 'ECI'}, {'Isin': 'EID', 'StockSymbol': 'EID'}, {'Isin': 'EVS', 'StockSymbol': 'EVS'}, {'Isin': 'FID', 'StockSymbol': 'FID'}, {'Isin': 'GDW', 'StockSymbol': 'GDW'}, {'Isin': 'GIC', 'StockSymbol': 'GIC'}, {'Isin': 'GKM', 'StockSymbol': 'GKM'}, {'Isin': 'GLT', 'StockSymbol': 'GLT'}, {'Isin': 'GMA', 'StockSymbol': 'GMA'}, {'Isin': 'GMX', 'StockSymbol': 'GMX'}, {'Isin': 'HAD', 'StockSymbol': 'HAD'}, {'Isin': 'HAT', 'StockSymbol': 'HAT'}, {'Isin': 'HBS', 'StockSymbol': 'HBS'}, {'Isin': 'HCC', 'StockSymbol': 'HCC'}, {'Isin': 'HCT', 'StockSymbol': 'HCT'}, {'Isin': 'HDA', 'StockSymbol': 'HDA'}, {'Isin': 'HEV', 'StockSymbol': 'HEV'}, {'Isin': 'HGM', 'StockSymbol': 'HGM'}, {'Isin': 'HHC', 'StockSymbol': 'HHC'}, {'Isin': 'HJS', 'StockSymbol': 'HJS'}, {'Isin': 'HKT', 'StockSymbol': 'HKT'}, {'Isin': 'HLC', 'StockSymbol': 'HLC'}, {'Isin': 'HLD', 'StockSymbol': 'HLD'}, {'Isin': 'HMH', 'StockSymbol': 'HMH'}, {'Isin': 'HMR', 'StockSymbol': 'HMR'}, {'Isin': 'HOM', 'StockSymbol': 'HOM'}, {'Isin': 'HTC', 'StockSymbol': 'HTC'}, {'Isin': 'HUT', 'StockSymbol': 'HUT'}, {'Isin': 'HVT', 'StockSymbol': 'HVT'}, {'Isin': 'ICG', 'StockSymbol': 'ICG'}, {'Isin': 'IDC', 'StockSymbol': 'IDC'}, {'Isin': 'IDJ', 'StockSymbol': 'IDJ'}, {'Isin': 'IDV', 'StockSymbol': 'IDV'}, {'Isin': 'INC', 'StockSymbol': 'INC'}, {'Isin': 'INN', 'StockSymbol': 'INN'}, {'Isin': 'IPA', 'StockSymbol': 'IPA'}, {'Isin': 'ITQ', 'StockSymbol': 'ITQ'}, {'Isin': 'IVS', 'StockSymbol': 'IVS'}, {'Isin': 'KDM', 'StockSymbol': 'KDM'}, {'Isin': 'KHS', 'StockSymbol': 'KHS'}, {'Isin': 'KKC', 'StockSymbol': 'KKC'}, {'Isin': 'KMT', 'StockSymbol': 'KMT'}, {'Isin': 'KSD', 'StockSymbol': 'KSD'}, {'Isin': 'KSF', 'StockSymbol': 'KSF'}, {'Isin': 'KST', 'StockSymbol': 'KST'}, {'Isin': 'KTS', 'StockSymbol': 'KTS'}, {'Isin': 'L14', 'StockSymbol': 'L14'}, {'Isin': 'L18', 'StockSymbol': 'L18'}, {'Isin': 'L40', 'StockSymbol': 'L40'}, {'Isin': 'LAS', 'StockSymbol': 'LAS'}, {'Isin': 'LBE', 'StockSymbol': 'LBE'}, {'Isin': 'LDP', 'StockSymbol': 'LDP'}, {'Isin': 'LHC', 'StockSymbol': 'LHC'}, {'Isin': 'LIG', 'StockSymbol': 'LIG'}, {'Isin': 'MAC', 'StockSymbol': 'MAC'}, {'Isin': 'MAS', 'StockSymbol': 'MAS'}, {'Isin': 'MBG', 'StockSymbol': 'MBG'}, {'Isin': 'MBS', 'StockSymbol': 'MBS'}, {'Isin': 'MCC', 'StockSymbol': 'MCC'}, {'Isin': 'MCF', 'StockSymbol': 'MCF'}, {'Isin': 'MCO', 'StockSymbol': 'MCO'}, {'Isin': 'MDC', 'StockSymbol': 'MDC'}, {'Isin': 'MED', 'StockSymbol': 'MED'}, {'Isin': 'MEL', 'StockSymbol': 'MEL'}, {'Isin': 'MIC', 'StockSymbol': 'MIC'}, {'Isin': 'MKV', 'StockSymbol': 'MKV'}, {'Isin': 'MST', 'StockSymbol': 'MST'}, {'Isin': 'NAG', 'StockSymbol': 'NAG'}, {'Isin': 'NAP', 'StockSymbol': 'NAP'}, {'Isin': 'NBC', 'StockSymbol': 'NBC'}, {'Isin': 'NBP', 'StockSymbol': 'NBP'}, {'Isin': 'NBW', 'StockSymbol': 'NBW'}, {'Isin': 'NDN', 'StockSymbol': 'NDN'}, {'Isin': 'NDX', 'StockSymbol': 'NDX'}, {'Isin': 'NET', 'StockSymbol': 'NET'}, {'Isin': 'NFC', 'StockSymbol': 'NFC'}, {'Isin': 'NHC', 'StockSymbol': 'NHC'}, {'Isin': 'NRC', 'StockSymbol': 'NRC'}, {'Isin': 'NSH', 'StockSymbol': 'NSH'}, {'Isin': 'NST', 'StockSymbol': 'NST'}, {'Isin': 'NTH', 'StockSymbol': 'NTH'}, {'Isin': 'NTP', 'StockSymbol': 'NTP'}, {'Isin': 'NVB', 'StockSymbol': 'NVB'}, {'Isin': 'OCH', 'StockSymbol': 'OCH'}, {'Isin': 'ONE', 'StockSymbol': 'ONE'}, {'Isin': 'PBP', 'StockSymbol': 'PBP'}, {'Isin': 'PCE', 'StockSymbol': 'PCE'}, {'Isin': 'PCH', 'StockSymbol': 'PCH'}, {'Isin': 'PCT', 'StockSymbol': 'PCT'}, {'Isin': 'PDB', 'StockSymbol': 'PDB'}, {'Isin': 'PEN', 'StockSymbol': 'PEN'}, {'Isin': 'PGN', 'StockSymbol': 'PGN'}, {'Isin': 'PGS', 'StockSymbol': 'PGS'}, {'Isin': 'PGT', 'StockSymbol': 'PGT'}, {'Isin': 'PHN', 'StockSymbol': 'PHN'}, {'Isin': 'PIA', 'StockSymbol': 'PIA'}, {'Isin': 'PIC', 'StockSymbol': 'PIC'}, {'Isin': 'PJC', 'StockSymbol': 'PJC'}, {'Isin': 'PLC', 'StockSymbol': 'PLC'}, {'Isin': 'PMB', 'StockSymbol': 'PMB'}, {'Isin': 'PMC', 'StockSymbol': 'PMC'}, {'Isin': 'PMP', 'StockSymbol': 'PMP'}, {'Isin': 'PMS', 'StockSymbol': 'PMS'}, {'Isin': 'POT', 'StockSymbol': 'POT'}, {'Isin': 'PPE', 'StockSymbol': 'PPE'}, {'Isin': 'PPP', 'StockSymbol': 'PPP'}, {'Isin': 'PPS', 'StockSymbol': 'PPS'}, {'Isin': 'PPT', 'StockSymbol': 'PPT'}, {'Isin': 'PPY', 'StockSymbol': 'PPY'}, {'Isin': 'PRC', 'StockSymbol': 'PRC'}, {'Isin': 'PRE', 'StockSymbol': 'PRE'}, {'Isin': 'PSC', 'StockSymbol': 'PSC'}, {'Isin': 'PSD', 'StockSymbol': 'PSD'}, {'Isin': 'PSE', 'StockSymbol': 'PSE'}, {'Isin': 'PSI', 'StockSymbol': 'PSI'}, {'Isin': 'PSW', 'StockSymbol': 'PSW'}, {'Isin': 'PTD', 'StockSymbol': 'PTD'}, {'Isin': 'PTI', 'StockSymbol': 'PTI'}, {'Isin': 'PTS', 'StockSymbol': 'PTS'}, {'Isin': 'PTX', 'StockSymbol': 'PTX'}, {'Isin': 'PV2', 'StockSymbol': 'PV2'}, {'Isin': 'PVB', 'StockSymbol': 'PVB'}, {'Isin': 'PVC', 'StockSymbol': 'PVC'}, {'Isin': 'PVG', 'StockSymbol': 'PVG'}, {'Isin': 'PVI', 'StockSymbol': 'PVI'}, {'Isin': 'PVS', 'StockSymbol': 'PVS'}, {'Isin': 'QHD', 'StockSymbol': 'QHD'}, {'Isin': 'QST', 'StockSymbol': 'QST'}, {'Isin': 'QTC', 'StockSymbol': 'QTC'}, {'Isin': 'RCL', 'StockSymbol': 'RCL'}, {'Isin': 'S55', 'StockSymbol': 'S55'}, {'Isin': 'S99', 'StockSymbol': 'S99'}, {'Isin': 'SAF', 'StockSymbol': 'SAF'}, {'Isin': 'SCG', 'StockSymbol': 'SCG'}, {'Isin': 'SCI', 'StockSymbol': 'SCI'}, {'Isin': 'SD5', 'StockSymbol': 'SD5'}, {'Isin': 'SD9', 'StockSymbol': 'SD9'}, {'Isin': 'SDA', 'StockSymbol': 'SDA'}, {'Isin': 'SDC', 'StockSymbol': 'SDC'}, {'Isin': 'SDG', 'StockSymbol': 'SDG'}, {'Isin': 'SDN', 'StockSymbol': 'SDN'}, {'Isin': 'SDU', 'StockSymbol': 'SDU'}, {'Isin': 'SEB', 'StockSymbol': 'SEB'}, {'Isin': 'SED', 'StockSymbol': 'SED'}, {'Isin': 'SFN', 'StockSymbol': 'SFN'}, {'Isin': 'SGC', 'StockSymbol': 'SGC'}, {'Isin': 'SGD', 'StockSymbol': 'SGD'}, {'Isin': 'SGH', 'StockSymbol': 'SGH'}, {'Isin': 'SHE', 'StockSymbol': 'SHE'}, {'Isin': 'SHN', 'StockSymbol': 'SHN'}, {'Isin': 'SHS', 'StockSymbol': 'SHS'}, {'Isin': 'SJ1', 'StockSymbol': 'SJ1'}, {'Isin': 'SJE', 'StockSymbol': 'SJE'}, {'Isin': 'SLS', 'StockSymbol': 'SLS'}, {'Isin': 'SMN', 'StockSymbol': 'SMN'}, {'Isin': 'SMT', 'StockSymbol': 'SMT'}, {'Isin': 'SPC', 'StockSymbol': 'SPC'}, {'Isin': 'SRA', 'StockSymbol': 'SRA'}, {'Isin': 'SSM', 'StockSymbol': 'SSM'}, {'Isin': 'STC', 'StockSymbol': 'STC'}, {'Isin': 'STP', 'StockSymbol': 'STP'}, {'Isin': 'SVN', 'StockSymbol': 'SVN'}, {'Isin': 'SZB', 'StockSymbol': 'SZB'}, {'Isin': 'TA9', 'StockSymbol': 'TA9'}, {'Isin': 'TBX', 'StockSymbol': 'TBX'}, {'Isin': 'TD6', 'StockSymbol': 'TD6'}, {'Isin': 'TDT', 'StockSymbol': 'TDT'}, {'Isin': 'TET', 'StockSymbol': 'TET'}, {'Isin': 'TFC', 'StockSymbol': 'TFC'}, {'Isin': 'THB', 'StockSymbol': 'THB'}, {'Isin': 'THD', 'StockSymbol': 'THD'}, {'Isin': 'THS', 'StockSymbol': 'THS'}, {'Isin': 'THT', 'StockSymbol': 'THT'}, {'Isin': 'TIG', 'StockSymbol': 'TIG'}, {'Isin': 'TJC', 'StockSymbol': 'TJC'}, {'Isin': 'TKU', 'StockSymbol': 'TKU'}, {'Isin': 'TMB', 'StockSymbol': 'TMB'}, {'Isin': 'TMC', 'StockSymbol': 'TMC'}, {'Isin': 'TMX', 'StockSymbol': 'TMX'}, {'Isin': 'TNG', 'StockSymbol': 'TNG'}, {'Isin': 'TOT', 'StockSymbol': 'TOT'}, {'Isin': 'TPP', 'StockSymbol': 'TPP'}, {'Isin': 'TSB', 'StockSymbol': 'TSB'}, {'Isin': 'TTC', 'StockSymbol': 'TTC'}, {'Isin': 'TTH', 'StockSymbol': 'TTH'}, {'Isin': 'TTL', 'StockSymbol': 'TTL'}, {'Isin': 'TTT', 'StockSymbol': 'TTT'}, {'Isin': 'TV3', 'StockSymbol': 'TV3'}, {'Isin': 'TV4', 'StockSymbol': 'TV4'}, {'Isin': 'TVC', 'StockSymbol': 'TVC'}, {'Isin': 'TVD', 'StockSymbol': 'TVD'}, {'Isin': 'TXM', 'StockSymbol': 'TXM'}, {'Isin': 'UNI', 'StockSymbol': 'UNI'}, {'Isin': 'V12', 'StockSymbol': 'V12'}, {'Isin': 'V21', 'StockSymbol': 'V21'}, {'Isin': 'VBC', 'StockSymbol': 'VBC'}, {'Isin': 'VC1', 'StockSymbol': 'VC1'}, {'Isin': 'VC2', 'StockSymbol': 'VC2'}, {'Isin': 'VC3', 'StockSymbol': 'VC3'}, {'Isin': 'VC6', 'StockSymbol': 'VC6'}, {'Isin': 'VC7', 'StockSymbol': 'VC7'}, {'Isin': 'VC9', 'StockSymbol': 'VC9'}, {'Isin': 'VCC', 'StockSymbol': 'VCC'}, {'Isin': 'VCM', 'StockSymbol': 'VCM'}, {'Isin': 'VCS', 'StockSymbol': 'VCS'}, {'Isin': 'VDL', 'StockSymbol': 'VDL'}, {'Isin': 'VE1', 'StockSymbol': 'VE1'}, {'Isin': 'VE3', 'StockSymbol': 'VE3'}, {'Isin': 'VE4', 'StockSymbol': 'VE4'}, {'Isin': 'VFS', 'StockSymbol': 'VFS'}, {'Isin': 'VGP', 'StockSymbol': 'VGP'}, {'Isin': 'VGS', 'StockSymbol': 'VGS'}, {'Isin': 'VHE', 'StockSymbol': 'VHE'}, {'Isin': 'VHL', 'StockSymbol': 'VHL'}, {'Isin': 'VIF', 'StockSymbol': 'VIF'}, {'Isin': 'VIG', 'StockSymbol': 'VIG'}, {'Isin': 'VIT', 'StockSymbol': 'VIT'}, {'Isin': 'VLA', 'StockSymbol': 'VLA'}, {'Isin': 'VMC', 'StockSymbol': 'VMC'}, {'Isin': 'VMS', 'StockSymbol': 'VMS'}, {'Isin': 'VNC', 'StockSymbol': 'VNC'}, {'Isin': 'VNF', 'StockSymbol': 'VNF'}, {'Isin': 'VNR', 'StockSymbol': 'VNR'}, {'Isin': 'VNT', 'StockSymbol': 'VNT'}, {'Isin': 'VSA', 'StockSymbol': 'VSA'}, {'Isin': 'VSM', 'StockSymbol': 'VSM'}, {'Isin': 'VTC', 'StockSymbol': 'VTC'}, {'Isin': 'VTH', 'StockSymbol': 'VTH'}, {'Isin': 'VTJ', 'StockSymbol': 'VTJ'}, {'Isin': 'VTV', 'StockSymbol': 'VTV'}, {'Isin': 'VTZ', 'StockSymbol': 'VTZ'}, {'Isin': 'WCS', 'StockSymbol': 'WCS'}, {'Isin': 'WSS', 'StockSymbol': 'WSS'}, {'Isin': 'X20', 'StockSymbol': 'X20'}]}, {'IndexCode': 'HNXUPCOMINDEX', 'IndexName': 'HNXUPCOMINDEX', 'Exchange': 'HOSE', 'TotalSymbolNo': '773', 'IndexComponent': [{'Isin': 'A32', 'StockSymbol': 'A32'}, {'Isin': 'AAH', 'StockSymbol': 'AAH'}, {'Isin': 'AAS', 'StockSymbol': 'AAS'}, {'Isin': 'ABB', 'StockSymbol': 'ABB'}, {'Isin': 'ABC', 'StockSymbol': 'ABC'}, {'Isin': 'ABI', 'StockSymbol': 'ABI'}, {'Isin': 'ABW', 'StockSymbol': 'ABW'}, {'Isin': 'ACE', 'StockSymbol': 'ACE'}, {'Isin': 'ACM', 'StockSymbol': 'ACM'}, {'Isin': 'ACS', 'StockSymbol': 'ACS'}, {'Isin': 'AFX', 'StockSymbol': 'AFX'}, {'Isin': 'AG1', 'StockSymbol': 'AG1'}, {'Isin': 'AGF', 'StockSymbol': 'AGF'}, {'Isin': 'AGM', 'StockSymbol': 'AGM'}, {'Isin': 'AGP', 'StockSymbol': 'AGP'}, {'Isin': 'AGX', 'StockSymbol': 'AGX'}, {'Isin': 'AIC', 'StockSymbol': 'AIC'}, {'Isin': 'AIG', 'StockSymbol': 'AIG'}, {'Isin': 'ALV', 'StockSymbol': 'ALV'}, {'Isin': 'AMP', 'StockSymbol': 'AMP'}, {'Isin': 'AMS', 'StockSymbol': 'AMS'}, {'Isin': 'ANT', 'StockSymbol': 'ANT'}, {'Isin': 'APC', 'StockSymbol': 'APC'}, {'Isin': 'APF', 'StockSymbol': 'APF'}, {'Isin': 'APL', 'StockSymbol': 'APL'}, {'Isin': 'APP', 'StockSymbol': 'APP'}, {'Isin': 'APT', 'StockSymbol': 'APT'}, {'Isin': 'ASA', 'StockSymbol': 'ASA'}, {'Isin': 'ATA', 'StockSymbol': 'ATA'}, {'Isin': 'ATB', 'StockSymbol': 'ATB'}, {'Isin': 'ATG', 'StockSymbol': 'ATG'}, {'Isin': 'AVC', 'StockSymbol': 'AVC'}, {'Isin': 'AVF', 'StockSymbol': 'AVF'}, {'Isin': 'AVG', 'StockSymbol': 'AVG'}, {'Isin': 'BAL', 'StockSymbol': 'BAL'}, {'Isin': 'BBH', 'StockSymbol': 'BBH'}, {'Isin': 'BBM', 'StockSymbol': 'BBM'}, {'Isin': 'BBT', 'StockSymbol': 'BBT'}, {'Isin': 'BCA', 'StockSymbol': 'BCA'}, {'Isin': 'BCB', 'StockSymbol': 'BCB'}, {'Isin': 'BCP', 'StockSymbol': 'BCP'}, {'Isin': 'BCR', 'StockSymbol': 'BCR'}, {'Isin': 'BCV', 'StockSymbol': 'BCV'}, {'Isin': 'BDG', 'StockSymbol': 'BDG'}, {'Isin': 'BDT', 'StockSymbol': 'BDT'}, {'Isin': 'BDW', 'StockSymbol': 'BDW'}, {'Isin': 'BEL', 'StockSymbol': 'BEL'}, {'Isin': 'BGE', 'StockSymbol': 'BGE'}, {'Isin': 'BGW', 'StockSymbol': 'BGW'}, {'Isin': 'BHA', 'StockSymbol': 'BHA'}, {'Isin': 'BHC', 'StockSymbol': 'BHC'}, {'Isin': 'BHH', 'StockSymbol': 'BHH'}, {'Isin': 'BHI', 'StockSymbol': 'BHI'}, {'Isin': 'BHK', 'StockSymbol': 'BHK'}, {'Isin': 'BHP', 'StockSymbol': 'BHP'}, {'Isin': 'BIG', 'StockSymbol': 'BIG'}, {'Isin': 'BII', 'StockSymbol': 'BII'}, {'Isin': 'BIO', 'StockSymbol': 'BIO'}, {'Isin': 'BLF', 'StockSymbol': 'BLF'}, {'Isin': 'BLI', 'StockSymbol': 'BLI'}, {'Isin': 'BLN', 'StockSymbol': 'BLN'}, {'Isin': 'BLT', 'StockSymbol': 'BLT'}, {'Isin': 'BMD', 'StockSymbol': 'BMD'}, {'Isin': 'BMF', 'StockSymbol': 'BMF'}, {'Isin': 'BMG', 'StockSymbol': 'BMG'}, {'Isin': 'BMJ', 'StockSymbol': 'BMJ'}, {'Isin': 'BMK', 'StockSymbol': 'BMK'}, {'Isin': 'BMS', 'StockSymbol': 'BMS'}, {'Isin': 'BNW', 'StockSymbol': 'BNW'}, {'Isin': 'BOT', 'StockSymbol': 'BOT'}, {'Isin': 'BQB', 'StockSymbol': 'BQB'}, {'Isin': 'BRS', 'StockSymbol': 'BRS'}, {'Isin': 'BSA', 'StockSymbol': 'BSA'}, {'Isin': 'BSD', 'StockSymbol': 'BSD'}, {'Isin': 'BSG', 'StockSymbol': 'BSG'}, {'Isin': 'BSH', 'StockSymbol': 'BSH'}, {'Isin': 'BSL', 'StockSymbol': 'BSL'}, {'Isin': 'BSP', 'StockSymbol': 'BSP'}, {'Isin': 'BSQ', 'StockSymbol': 'BSQ'}, {'Isin': 'BT1', 'StockSymbol': 'BT1'}, {'Isin': 'BT6', 'StockSymbol': 'BT6'}, {'Isin': 'BTB', 'StockSymbol': 'BTB'}, {'Isin': 'BTD', 'StockSymbol': 'BTD'}, {'Isin': 'BTG', 'StockSymbol': 'BTG'}, {'Isin': 'BTH', 'StockSymbol': 'BTH'}, {'Isin': 'BTN', 'StockSymbol': 'BTN'}, {'Isin': 'BTU', 'StockSymbol': 'BTU'}, {'Isin': 'BTV', 'StockSymbol': 'BTV'}, {'Isin': 'BVB', 'StockSymbol': 'BVB'}, {'Isin': 'BVG', 'StockSymbol': 'BVG'}, {'Isin': 'BVL', 'StockSymbol': 'BVL'}, {'Isin': 'BVN', 'StockSymbol': 'BVN'}, {'Isin': 'BWA', 'StockSymbol': 'BWA'}, {'Isin': 'BWS', 'StockSymbol': 'BWS'}, {'Isin': 'C12', 'StockSymbol': 'C12'}, {'Isin': 'C21', 'StockSymbol': 'C21'}, {'Isin': 'C22', 'StockSymbol': 'C22'}, {'Isin': 'C4G', 'StockSymbol': 'C4G'}, {'Isin': 'C92', 'StockSymbol': 'C92'}, {'Isin': 'CAD', 'StockSymbol': 'CAD'}, {'Isin': 'CAT', 'StockSymbol': 'CAT'}, {'Isin': 'CBI', 'StockSymbol': 'CBI'}, {'Isin': 'CBS', 'StockSymbol': 'CBS'}, {'Isin': 'CC1', 'StockSymbol': 'CC1'}, {'Isin': 'CCA', 'StockSymbol': 'CCA'}, {'Isin': 'CCP', 'StockSymbol': 'CCP'}, {'Isin': 'CCV', 'StockSymbol': 'CCV'}, {'Isin': 'CDG', 'StockSymbol': 'CDG'}, {'Isin': 'CDH', 'StockSymbol': 'CDH'}, {'Isin': 'CDO', 'StockSymbol': 'CDO'}, {'Isin': 'CDP', 'StockSymbol': 'CDP'}, {'Isin': 'CDR', 'StockSymbol': 'CDR'}, {'Isin': 'CEN', 'StockSymbol': 'CEN'}, {'Isin': 'CFM', 'StockSymbol': 'CFM'}, {'Isin': 'CGV', 'StockSymbol': 'CGV'}, {'Isin': 'CH5', 'StockSymbol': 'CH5'}, {'Isin': 'CHC', 'StockSymbol': 'CHC'}, {'Isin': 'CHS', 'StockSymbol': 'CHS'}, {'Isin': 'CI5', 'StockSymbol': 'CI5'}, {'Isin': 'CID', 'StockSymbol': 'CID'}, {'Isin': 'CIP', 'StockSymbol': 'CIP'}, {'Isin': 'CK8', 'StockSymbol': 'CK8'}, {'Isin': 'CKA', 'StockSymbol': 'CKA'}, {'Isin': 'CKD', 'StockSymbol': 'CKD'}, {'Isin': 'CLG', 'StockSymbol': 'CLG'}, {'Isin': 'CLX', 'StockSymbol': 'CLX'}, {'Isin': 'CMD', 'StockSymbol': 'CMD'}, {'Isin': 'CMF', 'StockSymbol': 'CMF'}, {'Isin': 'CMI', 'StockSymbol': 'CMI'}, {'Isin': 'CMK', 'StockSymbol': 'CMK'}, {'Isin': 'CMM', 'StockSymbol': 'CMM'}, {'Isin': 'CMN', 'StockSymbol': 'CMN'}, {'Isin': 'CMT', 'StockSymbol': 'CMT'}, {'Isin': 'CNC', 'StockSymbol': 'CNC'}, {'Isin': 'CNN', 'StockSymbol': 'CNN'}, {'Isin': 'CNT', 'StockSymbol': 'CNT'}, {'Isin': 'CPI', 'StockSymbol': 'CPI'}, {'Isin': 'CQN', 'StockSymbol': 'CQN'}, {'Isin': 'CQT', 'StockSymbol': 'CQT'}, {'Isin': 'CSI', 'StockSymbol': 'CSI'}, {'Isin': 'CT3', 'StockSymbol': 'CT3'}, {'Isin': 'CT6', 'StockSymbol': 'CT6'}, {'Isin': 'CTA', 'StockSymbol': 'CTA'}, {'Isin': 'CTN', 'StockSymbol': 'CTN'}, {'Isin': 'CTX', 'StockSymbol': 'CTX'}, {'Isin': 'CVN', 'StockSymbol': 'CVN'}, {'Isin': 'CYC', 'StockSymbol': 'CYC'}, {'Isin': 'DAC', 'StockSymbol': 'DAC'}, {'Isin': 'DAS', 'StockSymbol': 'DAS'}, {'Isin': 'DBM', 'StockSymbol': 'DBM'}, {'Isin': 'DC1', 'StockSymbol': 'DC1'}, {'Isin': 'DCF', 'StockSymbol': 'DCF'}, {'Isin': 'DCG', 'StockSymbol': 'DCG'}, {'Isin': 'DCH', 'StockSymbol': 'DCH'}, {'Isin': 'DCR', 'StockSymbol': 'DCR'}, {'Isin': 'DCS', 'StockSymbol': 'DCS'}, {'Isin': 'DCT', 'StockSymbol': 'DCT'}, {'Isin': 'DDB', 'StockSymbol': 'DDB'}, {'Isin': 'DDH', 'StockSymbol': 'DDH'}, {'Isin': 'DDM', 'StockSymbol': 'DDM'}, {'Isin': 'DDN', 'StockSymbol': 'DDN'}, {'Isin': 'DDV', 'StockSymbol': 'DDV'}, {'Isin': 'DFC', 'StockSymbol': 'DFC'}, {'Isin': 'DFF', 'StockSymbol': 'DFF'}, {'Isin': 'DGT', 'StockSymbol': 'DGT'}, {'Isin': 'DHD', 'StockSymbol': 'DHD'}, {'Isin': 'DHN', 'StockSymbol': 'DHN'}, {'Isin': 'DIC', 'StockSymbol': 'DIC'}, {'Isin': 'DID', 'StockSymbol': 'DID'}, {'Isin': 'DKC', 'StockSymbol': 'DKC'}, {'Isin': 'DKG', 'StockSymbol': 'DKG'}, {'Isin': 'DKW', 'StockSymbol': 'DKW'}, {'Isin': 'DLD', 'StockSymbol': 'DLD'}, {'Isin': 'DLR', 'StockSymbol': 'DLR'}, {'Isin': 'DLT', 'StockSymbol': 'DLT'}, {'Isin': 'DM7', 'StockSymbol': 'DM7'}, {'Isin': 'DMN', 'StockSymbol': 'DMN'}, {'Isin': 'DMS', 'StockSymbol': 'DMS'}, {'Isin': 'DNA', 'StockSymbol': 'DNA'}, {'Isin': 'DND', 'StockSymbol': 'DND'}, {'Isin': 'DNE', 'StockSymbol': 'DNE'}, {'Isin': 'DNL', 'StockSymbol': 'DNL'}, {'Isin': 'DNM', 'StockSymbol': 'DNM'}, {'Isin': 'DNW', 'StockSymbol': 'DNW'}, {'Isin': 'DOC', 'StockSymbol': 'DOC'}, {'Isin': 'DOP', 'StockSymbol': 'DOP'}, {'Isin': 'DP1', 'StockSymbol': 'DP1'}, {'Isin': 'DP2', 'StockSymbol': 'DP2'}, {'Isin': 'DPC', 'StockSymbol': 'DPC'}, {'Isin': 'DPH', 'StockSymbol': 'DPH'}, {'Isin': 'DPP', 'StockSymbol': 'DPP'}, {'Isin': 'DPS', 'StockSymbol': 'DPS'}, {'Isin': 'DRI', 'StockSymbol': 'DRI'}, {'Isin': 'DSD', 'StockSymbol': 'DSD'}, {'Isin': 'DSG', 'StockSymbol': 'DSG'}, {'Isin': 'DSH', 'StockSymbol': 'DSH'}, {'Isin': 'DSP', 'StockSymbol': 'DSP'}, {'Isin': 'DTC', 'StockSymbol': 'DTC'}, {'Isin': 'DTE', 'StockSymbol': 'DTE'}, {'Isin': 'DTH', 'StockSymbol': 'DTH'}, {'Isin': 'DTI', 'StockSymbol': 'DTI'}, {'Isin': 'DTP', 'StockSymbol': 'DTP'}, {'Isin': 'DUS', 'StockSymbol': 'DUS'}, {'Isin': 'DVC', 'StockSymbol': 'DVC'}, {'Isin': 'DVG', 'StockSymbol': 'DVG'}, {'Isin': 'DVN', 'StockSymbol': 'DVN'}, {'Isin': 'DVT', 'StockSymbol': 'DVT'}, {'Isin': 'DVW', 'StockSymbol': 'DVW'}, {'Isin': 'DWS', 'StockSymbol': 'DWS'}, {'Isin': 'DXL', 'StockSymbol': 'DXL'}, {'Isin': 'E12', 'StockSymbol': 'E12'}, {'Isin': 'E29', 'StockSymbol': 'E29'}, {'Isin': 'ECO', 'StockSymbol': 'ECO'}, {'Isin': 'EFI', 'StockSymbol': 'EFI'}, {'Isin': 'EIC', 'StockSymbol': 'EIC'}, {'Isin': 'EIN', 'StockSymbol': 'EIN'}, {'Isin': 'EME', 'StockSymbol': 'EME'}]}]\n"
     ]
    }
   ],
   "execution_count": 62
  },
  {
   "cell_type": "code",
   "metadata": {
    "ExecuteTime": {
     "end_time": "2025-10-22T11:54:25.278614Z",
     "start_time": "2025-10-22T11:54:25.224270Z"
    }
   },
   "source": [
    "# Extract data from the response JSON\n",
    "data = response.json()['data']\n",
    "\n",
    "# Convert the data into a DataFrame\n",
    "df = pd.DataFrame(data)\n",
    "\n",
    "# Display the DataFrame\n",
    "display(df)"
   ],
   "outputs": [
    {
     "data": {
      "text/plain": [
       "                 IndexCode                IndexName Exchange TotalSymbolNo  \\\n",
       "0   HNX CONSTRUCTION INDEX   HNX CONSTRUCTION INDEX     HOSE            47   \n",
       "1     HNX FINANCIALS INDEX     HNX FINANCIALS INDEX     HOSE            22   \n",
       "2      HNX LARGE CAP INDEX      HNX LARGE CAP INDEX     HOSE            50   \n",
       "3  HNX MANUFACTURING INDEX  HNX MANUFACTURING INDEX     HOSE            94   \n",
       "4  HNX MID/SMALL CAP INDEX  HNX MID/SMALL CAP INDEX     HOSE           243   \n",
       "5                    HNX30                    HNX30     HOSE            30   \n",
       "6                 HNXINDEX                 HNXINDEX     HOSE           297   \n",
       "7            HNXUPCOMINDEX            HNXUPCOMINDEX     HOSE           773   \n",
       "\n",
       "                                      IndexComponent  \n",
       "0  [{'Isin': 'AME', 'StockSymbol': 'AME'}, {'Isin...  \n",
       "1  [{'Isin': 'API', 'StockSymbol': 'API'}, {'Isin...  \n",
       "2  [{'Isin': 'APS', 'StockSymbol': 'APS'}, {'Isin...  \n",
       "3  [{'Isin': 'ALT', 'StockSymbol': 'ALT'}, {'Isin...  \n",
       "4  [{'Isin': 'AAV', 'StockSymbol': 'AAV'}, {'Isin...  \n",
       "5  [{'Isin': 'BVS', 'StockSymbol': 'BVS'}, {'Isin...  \n",
       "6  [{'Isin': 'AAV', 'StockSymbol': 'AAV'}, {'Isin...  \n",
       "7  [{'Isin': 'A32', 'StockSymbol': 'A32'}, {'Isin...  "
      ],
      "text/html": [
       "<div>\n",
       "<style scoped>\n",
       "    .dataframe tbody tr th:only-of-type {\n",
       "        vertical-align: middle;\n",
       "    }\n",
       "\n",
       "    .dataframe tbody tr th {\n",
       "        vertical-align: top;\n",
       "    }\n",
       "\n",
       "    .dataframe thead th {\n",
       "        text-align: right;\n",
       "    }\n",
       "</style>\n",
       "<table border=\"1\" class=\"dataframe\">\n",
       "  <thead>\n",
       "    <tr style=\"text-align: right;\">\n",
       "      <th></th>\n",
       "      <th>IndexCode</th>\n",
       "      <th>IndexName</th>\n",
       "      <th>Exchange</th>\n",
       "      <th>TotalSymbolNo</th>\n",
       "      <th>IndexComponent</th>\n",
       "    </tr>\n",
       "  </thead>\n",
       "  <tbody>\n",
       "    <tr>\n",
       "      <th>0</th>\n",
       "      <td>HNX CONSTRUCTION INDEX</td>\n",
       "      <td>HNX CONSTRUCTION INDEX</td>\n",
       "      <td>HOSE</td>\n",
       "      <td>47</td>\n",
       "      <td>[{'Isin': 'AME', 'StockSymbol': 'AME'}, {'Isin...</td>\n",
       "    </tr>\n",
       "    <tr>\n",
       "      <th>1</th>\n",
       "      <td>HNX FINANCIALS INDEX</td>\n",
       "      <td>HNX FINANCIALS INDEX</td>\n",
       "      <td>HOSE</td>\n",
       "      <td>22</td>\n",
       "      <td>[{'Isin': 'API', 'StockSymbol': 'API'}, {'Isin...</td>\n",
       "    </tr>\n",
       "    <tr>\n",
       "      <th>2</th>\n",
       "      <td>HNX LARGE CAP INDEX</td>\n",
       "      <td>HNX LARGE CAP INDEX</td>\n",
       "      <td>HOSE</td>\n",
       "      <td>50</td>\n",
       "      <td>[{'Isin': 'APS', 'StockSymbol': 'APS'}, {'Isin...</td>\n",
       "    </tr>\n",
       "    <tr>\n",
       "      <th>3</th>\n",
       "      <td>HNX MANUFACTURING INDEX</td>\n",
       "      <td>HNX MANUFACTURING INDEX</td>\n",
       "      <td>HOSE</td>\n",
       "      <td>94</td>\n",
       "      <td>[{'Isin': 'ALT', 'StockSymbol': 'ALT'}, {'Isin...</td>\n",
       "    </tr>\n",
       "    <tr>\n",
       "      <th>4</th>\n",
       "      <td>HNX MID/SMALL CAP INDEX</td>\n",
       "      <td>HNX MID/SMALL CAP INDEX</td>\n",
       "      <td>HOSE</td>\n",
       "      <td>243</td>\n",
       "      <td>[{'Isin': 'AAV', 'StockSymbol': 'AAV'}, {'Isin...</td>\n",
       "    </tr>\n",
       "    <tr>\n",
       "      <th>5</th>\n",
       "      <td>HNX30</td>\n",
       "      <td>HNX30</td>\n",
       "      <td>HOSE</td>\n",
       "      <td>30</td>\n",
       "      <td>[{'Isin': 'BVS', 'StockSymbol': 'BVS'}, {'Isin...</td>\n",
       "    </tr>\n",
       "    <tr>\n",
       "      <th>6</th>\n",
       "      <td>HNXINDEX</td>\n",
       "      <td>HNXINDEX</td>\n",
       "      <td>HOSE</td>\n",
       "      <td>297</td>\n",
       "      <td>[{'Isin': 'AAV', 'StockSymbol': 'AAV'}, {'Isin...</td>\n",
       "    </tr>\n",
       "    <tr>\n",
       "      <th>7</th>\n",
       "      <td>HNXUPCOMINDEX</td>\n",
       "      <td>HNXUPCOMINDEX</td>\n",
       "      <td>HOSE</td>\n",
       "      <td>773</td>\n",
       "      <td>[{'Isin': 'A32', 'StockSymbol': 'A32'}, {'Isin...</td>\n",
       "    </tr>\n",
       "  </tbody>\n",
       "</table>\n",
       "</div>"
      ]
     },
     "metadata": {},
     "output_type": "display_data",
     "jetTransient": {
      "display_id": null
     }
    }
   ],
   "execution_count": 63
  }
 ],
 "metadata": {
  "kernelspec": {
   "display_name": "lequan_env",
   "language": "python",
   "name": "python3"
  },
  "language_info": {
   "codemirror_mode": {
    "name": "ipython",
    "version": 3
   },
   "file_extension": ".py",
   "mimetype": "text/x-python",
   "name": "python",
   "nbconvert_exporter": "python",
   "pygments_lexer": "ipython3",
   "version": "3.12.9"
  }
 },
 "nbformat": 4,
 "nbformat_minor": 2
}
