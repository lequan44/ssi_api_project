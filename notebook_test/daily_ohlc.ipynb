{
 "cells": [
  {
   "cell_type": "code",
   "metadata": {
    "ExecuteTime": {
     "end_time": "2025-10-22T10:48:04.678141Z",
     "start_time": "2025-10-22T10:48:04.672849Z"
    }
   },
   "source": [
    "import requests \n",
    "import pandas as pd\n",
    "import time\n",
    "import json\n",
    "from datetime import date,datetime,timedelta"
   ],
   "outputs": [],
   "execution_count": 9
  },
  {
   "cell_type": "code",
   "metadata": {
    "ExecuteTime": {
     "end_time": "2025-10-22T10:48:04.687055Z",
     "start_time": "2025-10-22T10:48:04.684292Z"
    }
   },
   "source": [
    "#Declare file config\n",
    "file_path = '../credentials/config.json'\n",
    "\n",
    "#Open and read Json file\n",
    "with open(file_path, \"r\") as file:\n",
    "    config_data = json.load(file)"
   ],
   "outputs": [],
   "execution_count": 10
  },
  {
   "cell_type": "code",
   "metadata": {
    "ExecuteTime": {
     "end_time": "2025-10-22T10:48:04.693881Z",
     "start_time": "2025-10-22T10:48:04.691760Z"
    }
   },
   "source": [
    "current_date = date.today()\n",
    "current_date = current_date.strftime('%d/%m/%Y')\n",
    "print(\"Current Date:\", current_date)\n"
   ],
   "outputs": [
    {
     "name": "stdout",
     "output_type": "stream",
     "text": [
      "Current Date: 22/10/2025\n"
     ]
    }
   ],
   "execution_count": 11
  },
  {
   "cell_type": "code",
   "metadata": {
    "ExecuteTime": {
     "end_time": "2025-10-22T10:48:05.057877Z",
     "start_time": "2025-10-22T10:48:04.709569Z"
    }
   },
   "source": [
    "url = \"https://fc-data.ssi.com.vn/api/v2/Market/AccessToken\"\n",
    "\n",
    "payload = {\n",
    "    \"consumerID\": config_data[\"consumerID\"],\n",
    "    \"consumerSecret\": config_data[\"consumerSecret\"]\n",
    "}\n",
    "\n",
    "headers = {\n",
    "    \"Content-Type\": \"application/json\"\n",
    "}\n",
    "\n",
    "response = requests.post(url, json=payload, headers=headers)\n",
    "if response.status_code == 200:\n",
    "    access_token = response.json()['data'].get(\"accessToken\")\n",
    "else:\n",
    "    print(\"Failed to get access token. Status Code:\", response.status_code)\n",
    "    print(\"Response Body:\", response.text)\n",
    "    exit()"
   ],
   "outputs": [],
   "execution_count": 12
  },
  {
   "cell_type": "code",
   "metadata": {
    "ExecuteTime": {
     "end_time": "2025-10-22T10:48:05.066382Z",
     "start_time": "2025-10-22T10:48:05.064398Z"
    }
   },
   "source": [
    "start_date = (date.today() - timedelta(days = 1))\n",
    "end_date = (date.today() - timedelta(days = 1))"
   ],
   "outputs": [],
   "execution_count": 13
  },
  {
   "cell_type": "code",
   "metadata": {
    "ExecuteTime": {
     "end_time": "2025-10-22T10:48:05.076024Z",
     "start_time": "2025-10-22T10:48:05.074279Z"
    }
   },
   "source": [
    "print(start_date)\n",
    "print(end_date)"
   ],
   "outputs": [
    {
     "name": "stdout",
     "output_type": "stream",
     "text": [
      "2025-10-21\n",
      "2025-10-21\n"
     ]
    }
   ],
   "execution_count": 14
  },
  {
   "cell_type": "code",
   "metadata": {
    "ExecuteTime": {
     "end_time": "2025-10-22T10:48:09.384125Z",
     "start_time": "2025-10-22T10:48:05.099792Z"
    }
   },
   "source": [
    "# Replace with the token you obtained\n",
    "url = \"https://fc-data.ssi.com.vn/api/v2/Market/DailyOhlc\"\n",
    "\n",
    "headers = {\n",
    "    \"Authorization\": f\"Bearer {access_token}\",\n",
    "    \"Content-Type\": \"application/json\"\n",
    "}\n",
    "\n",
    "df = pd.DataFrame()\n",
    "for data_date in pd.date_range(start=start_date, end=end_date):\n",
    "    data_date = data_date.strftime('%d/%m/%Y')\n",
    "    \n",
    "    for index in range(1, 10):\n",
    "        params = {\n",
    "            \"fromDate\": data_date,\n",
    "            \"toDate\": data_date,\n",
    "            \"pageIndex\": index,\n",
    "            \"pageSize\": 1000\n",
    "        }\n",
    "        response = requests.get(url, headers=headers, params=params)\n",
    "        data = response.json().get('data', [])\n",
    "        df_response = pd.DataFrame(data)\n",
    "        df = pd.concat([df, df_response], ignore_index=True)\n",
    "        time.sleep(1)\n",
    "        if len(df_response) == 0:\n",
    "            break"
   ],
   "outputs": [],
   "execution_count": 15
  },
  {
   "cell_type": "code",
   "metadata": {
    "ExecuteTime": {
     "end_time": "2025-10-22T10:48:09.405584Z",
     "start_time": "2025-10-22T10:48:09.399002Z"
    }
   },
   "source": "print(df)",
   "outputs": [
    {
     "name": "stdout",
     "output_type": "stream",
     "text": [
      "             Symbol Market TradingDate  Time     Open     High      Low  \\\n",
      "0             HNX30   None  21/10/2025  None   566.26   575.87   553.59   \n",
      "1          HNXIndex   None  21/10/2025  None   263.39   266.99   259.40   \n",
      "2     HNXUpcomIndex   None  21/10/2025  None   108.48   110.02   108.38   \n",
      "3             VN100   None  21/10/2025  None  1809.51  1849.50  1780.75   \n",
      "4              VN30   None  21/10/2025  None  1882.66  1933.22  1862.51   \n",
      "...             ...    ...         ...   ...      ...      ...      ...   \n",
      "1250            XMD  UPCOM  21/10/2025  None     6800     7000     6200   \n",
      "1251            XMP  UPCOM  21/10/2025  None    15000    15300    15000   \n",
      "1252            XPH  UPCOM  21/10/2025  None    14700    14700    14600   \n",
      "1253            YBM   HOSE  21/10/2025  None    14000    14350    13700   \n",
      "1254            YEG   HOSE  21/10/2025  None    12050    12750    12050   \n",
      "\n",
      "        Close      Volume           Value  \n",
      "0      567.58   106435315   2845263174700  \n",
      "1      264.65   140750639   3247415401800  \n",
      "2      109.90    46150945    639957940000  \n",
      "3     1832.98  1351000753  44034548154600  \n",
      "4     1915.90   686676387  25437588631400  \n",
      "...       ...         ...             ...  \n",
      "1250     6200        8800        57900000  \n",
      "1251    15300         400         6060000  \n",
      "1252    14600        3500        51380000  \n",
      "1253    14350       13400       183735000  \n",
      "1254    12600     3420300     42094110000  \n",
      "\n",
      "[1255 rows x 10 columns]\n"
     ]
    }
   ],
   "execution_count": 16
  }
 ],
 "metadata": {
  "kernelspec": {
   "display_name": "lequan_env",
   "language": "python",
   "name": "python3"
  },
  "language_info": {
   "codemirror_mode": {
    "name": "ipython",
    "version": 3
   },
   "file_extension": ".py",
   "mimetype": "text/x-python",
   "name": "python",
   "nbconvert_exporter": "python",
   "pygments_lexer": "ipython3",
   "version": "3.12.9"
  }
 },
 "nbformat": 4,
 "nbformat_minor": 2
}
