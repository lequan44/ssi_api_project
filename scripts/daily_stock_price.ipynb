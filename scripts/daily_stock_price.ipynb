{
 "cells": [
  {
   "cell_type": "code",
   "id": "350962c9",
   "metadata": {},
   "source": [
    "import requests \n",
    "import pandas as pd\n",
    "import time\n",
    "import json\n",
    "from datetime import date,datetime,timedelta"
   ],
   "outputs": [],
   "execution_count": null
  },
  {
   "cell_type": "code",
   "id": "ca3586e7",
   "metadata": {},
   "source": [
    "#Declare file config\n",
    "file_path = '../credentials/config.json'\n",
    "\n",
    "#Open and read Json file\n",
    "with open(file_path, \"r\") as file:\n",
    "    config_data = json.load(file)"
   ],
   "outputs": [],
   "execution_count": null
  },
  {
   "cell_type": "code",
   "id": "a82bd0b8",
   "metadata": {},
   "source": [
    "current_date = date.today()\n",
    "current_date = current_date.strftime('%d/%m/%Y')\n",
    "print(\"Current Date:\", current_date)"
   ],
   "outputs": [],
   "execution_count": null
  },
  {
   "cell_type": "code",
   "id": "9d56931a",
   "metadata": {},
   "source": [
    "url = \"https://fc-data.ssi.com.vn/api/v2/Market/AccessToken\"\n",
    "\n",
    "payload = {\n",
    "    \"consumerID\": config_data[\"consumerID\"],\n",
    "    \"consumerSecret\": config_data[\"consumerSecret\"]\n",
    "}\n",
    "\n",
    "headers = {\n",
    "    \"Content-Type\": \"application/json\"\n",
    "}\n",
    "\n",
    "response = requests.post(url, json=payload, headers=headers)\n",
    "if response.status_code == 200:\n",
    "    access_token = response.json()['data'].get(\"accessToken\")\n",
    "else:\n",
    "    print(\"Failed to get access token. Status Code:\", response.status_code)\n",
    "    print(\"Response Body:\", response.text)\n",
    "    exit()"
   ],
   "outputs": [],
   "execution_count": null
  },
  {
   "cell_type": "code",
   "id": "4220291d",
   "metadata": {},
   "source": [
    "start_date = (date.today() - timedelta(days = 1)).strftime('%d/%m/%Y')\n",
    "end_date = (date.today() - timedelta(days = 1)).strftime('%d/%m/%Y')"
   ],
   "outputs": [],
   "execution_count": null
  },
  {
   "cell_type": "code",
   "id": "c49fb0d0",
   "metadata": {},
   "source": [
    "# Replace with the token you obtained\n",
    "url = \" https://fc-data.ssi.com.vn/api/v2/Market/DailyStockPrice\"\n",
    "\n",
    "headers = {\n",
    "    \"Authorization\": f\"Bearer {access_token}\",\n",
    "    \"Content-Type\": \"application/json\"\n",
    "}\n",
    "\n",
    "params = {\n",
    "    # \"symbol\": 'SSI',\n",
    "    \"fromDate\": start_date,\n",
    "    \"toDate\": end_date,\n",
    "    \"pageIndex\": 1,\n",
    "    \"pageSize\": 1000,\n",
    "    # \"market\" : 'HNX'\n",
    "}\n",
    "\n",
    "# Send the GET request\n",
    "response = requests.get(url, headers=headers,params=params)\n",
    "\n",
    "# Extract data from the response JSON\n",
    "data = response.json().get('data', [])\n",
    "\n",
    "# Convert the data into a DataFrame\n",
    "df = pd.DataFrame(data)"
   ],
   "outputs": [],
   "execution_count": null
  },
  {
   "cell_type": "code",
   "id": "475357d8",
   "metadata": {},
   "source": [
    "display(df)"
   ],
   "outputs": [],
   "execution_count": null
  },
  {
   "cell_type": "code",
   "id": "50df72a5",
   "metadata": {},
   "source": [
    "#Save dataframe"
   ],
   "outputs": [],
   "execution_count": null
  }
 ],
 "metadata": {
  "kernelspec": {
   "display_name": "lequan_env",
   "language": "python",
   "name": "python3"
  },
  "language_info": {
   "codemirror_mode": {
    "name": "ipython",
    "version": 3
   },
   "file_extension": ".py",
   "mimetype": "text/x-python",
   "name": "python",
   "nbconvert_exporter": "python",
   "pygments_lexer": "ipython3",
   "version": "3.12.9"
  }
 },
 "nbformat": 4,
 "nbformat_minor": 5
}
