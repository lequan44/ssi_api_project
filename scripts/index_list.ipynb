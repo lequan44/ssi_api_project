{
 "cells": [
  {
   "cell_type": "code",
   "execution_count": null,
   "metadata": {
    "ExecuteTime": {
     "end_time": "2025-08-18T16:37:35.380550Z",
     "start_time": "2025-08-18T16:37:34.595461Z"
    }
   },
   "outputs": [],
   "source": [
    "import requests \n",
    "import pandas as pd\n",
    "import time\n",
    "import json\n",
    "from datetime import date,datetime,timedelta"
   ]
  },
  {
   "cell_type": "code",
   "execution_count": null,
   "metadata": {},
   "outputs": [],
   "source": [
    "#Declare file config\n",
    "file_path = '../config.json'\n",
    "\n",
    "#Open and read Json file\n",
    "with open(file_path, \"r\") as file:\n",
    "    config_data = json.load(file)"
   ]
  },
  {
   "cell_type": "code",
   "execution_count": null,
   "metadata": {
    "ExecuteTime": {
     "end_time": "2025-08-18T16:37:40.870543Z",
     "start_time": "2025-08-18T16:37:40.867623Z"
    }
   },
   "outputs": [],
   "source": [
    "current_date = date.today()\n",
    "current_date = current_date.strftime('%d/%m/%Y')\n",
    "print(\"Current Date:\", current_date)\n"
   ]
  },
  {
   "cell_type": "code",
   "execution_count": null,
   "metadata": {},
   "outputs": [],
   "source": [
    "url = \"https://fc-data.ssi.com.vn/api/v2/Market/AccessToken\"\n",
    "\n",
    "payload = {\n",
    "    \"consumerID\": config_data[\"consumerID\"],\n",
    "    \"consumerSecret\": config_data[\"consumerSecret\"]\n",
    "}\n",
    "\n",
    "headers = {\n",
    "    \"Content-Type\": \"application/json\"\n",
    "}\n",
    "\n",
    "response = requests.post(url, json=payload, headers=headers)\n",
    "if response.status_code == 200:\n",
    "    access_token = response.json()['data'].get(\"accessToken\")\n",
    "else:\n",
    "    print(\"Failed to get access token. Status Code:\", response.status_code)\n",
    "    print(\"Response Body:\", response.text)\n",
    "    exit()"
   ]
  },
  {
   "cell_type": "code",
   "execution_count": null,
   "metadata": {},
   "outputs": [],
   "source": [
    "# Replace with the token you obtained\n",
    "url = \"https://fc-data.ssi.com.vn/api/v2/Market/IndexList\"\n",
    "\n",
    "headers = {\n",
    "    \"Authorization\": f\"Bearer {access_token}\",\n",
    "    \"Content-Type\": \"application/json\"\n",
    "}\n",
    "\n",
    "params = {\n",
    "    \"pageIndex\": 1,\n",
    "    \"pageSize\": 1000\n",
    "}\n",
    "\n",
    "# Send the GET request\n",
    "response = requests.get(url, headers=headers,params=params)\n",
    "\n",
    "# Extract data from the response JSON\n",
    "data = response.json().get('data', [])\n",
    "\n",
    "# Convert the data into a DataFrame\n",
    "df = pd.DataFrame(data)"
   ]
  },
  {
   "cell_type": "code",
   "execution_count": null,
   "metadata": {},
   "outputs": [],
   "source": [
    "display(df)"
   ]
  },
  {
   "cell_type": "code",
   "execution_count": null,
   "metadata": {},
   "outputs": [],
   "source": []
  }
 ],
 "metadata": {
  "kernelspec": {
   "display_name": "lequan_env",
   "language": "python",
   "name": "python3"
  },
  "language_info": {
   "codemirror_mode": {
    "name": "ipython",
    "version": 3
   },
   "file_extension": ".py",
   "mimetype": "text/x-python",
   "name": "python",
   "nbconvert_exporter": "python",
   "pygments_lexer": "ipython3",
   "version": "3.12.9"
  }
 },
 "nbformat": 4,
 "nbformat_minor": 2
}
